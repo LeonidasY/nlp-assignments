{
  "nbformat": 4,
  "nbformat_minor": 0,
  "metadata": {
    "colab": {
      "name": "Assignment_1.ipynb",
      "provenance": [],
      "collapsed_sections": []
    },
    "kernelspec": {
      "display_name": "Python 3",
      "name": "python3"
    },
    "language_info": {
      "name": "python"
    }
  },
  "cells": [
    {
      "cell_type": "code",
      "source": [
        "# Install the necessary libraries\n",
        "%%capture\n",
        "!pip3 install --upgrade --no-cache-dir gdown\n",
        "!pip3 install keras_tuner"
      ],
      "metadata": {
        "id": "KmAZ1t6pxq1m"
      },
      "execution_count": null,
      "outputs": []
    },
    {
      "cell_type": "code",
      "source": [
        "# Import the necessary libraries\n",
        "import os\n",
        "import re\n",
        "import numpy as np\n",
        "import pandas as pd\n",
        "from keras.preprocessing.sequence import pad_sequences\n",
        "\n",
        "from keras import backend as K\n",
        "from tensorflow.keras.models import Sequential\n",
        "from tensorflow.keras.layers import InputLayer, LSTM, Bidirectional, GRU, Dense, TimeDistributed, Activation\n",
        "from tensorflow.keras.optimizers import Adam\n",
        "from keras_tuner import RandomSearch, Objective\n",
        "from keras.utils.vis_utils import plot_model\n",
        "\n",
        "from keras.models import load_model\n",
        "from sklearn.metrics import confusion_matrix, ConfusionMatrixDisplay, f1_score\n",
        "import matplotlib.pyplot as plt"
      ],
      "metadata": {
        "id": "PVHHO4q4xurw"
      },
      "execution_count": null,
      "outputs": []
    },
    {
      "cell_type": "code",
      "source": [
        "# Set the notebook hyperparameters\n",
        "PREPROCESS = True\n",
        "TRAIN = False\n",
        "TEST = True"
      ],
      "metadata": {
        "id": "egESiaEGxcYa"
      },
      "execution_count": null,
      "outputs": []
    },
    {
      "cell_type": "markdown",
      "metadata": {
        "id": "6XBBH9cJY0gi"
      },
      "source": [
        "# Data Preparation"
      ]
    },
    {
      "cell_type": "code",
      "metadata": {
        "id": "bFLL94yCkYqd",
        "colab": {
          "base_uri": "https://localhost:8080/"
        },
        "outputId": "614a38af-0c47-44c4-be98-8748f30f1d96"
      },
      "source": [
        "if PREPROCESS == True:\n",
        "\n",
        "  # Download the dataset\n",
        "  !gdown https://raw.githubusercontent.com/nltk/nltk_data/gh-pages/packages/corpora/dependency_treebank.zip\n",
        "\n",
        "  # Unzip the dataset\n",
        "  !unzip -q -o dependency_treebank.zip -d dataset"
      ],
      "execution_count": null,
      "outputs": [
        {
          "output_type": "stream",
          "name": "stdout",
          "text": [
            "Downloading...\n",
            "From: https://raw.githubusercontent.com/nltk/nltk_data/gh-pages/packages/corpora/dependency_treebank.zip\n",
            "To: /content/dependency_treebank.zip\n",
            "\r  0% 0.00/457k [00:00<?, ?B/s]\r100% 457k/457k [00:00<00:00, 13.1MB/s]\n"
          ]
        }
      ]
    },
    {
      "cell_type": "code",
      "metadata": {
        "id": "TX_yA4bVjcvu",
        "colab": {
          "base_uri": "https://localhost:8080/"
        },
        "outputId": "d8a70531-02dc-49bb-a1a5-23146a9f6bad"
      },
      "source": [
        "if PREPROCESS == True:\n",
        "\n",
        "  # Download the GloVe embeddings file\n",
        "  !gdown https://nlp.stanford.edu/data/glove.6B.zip\n",
        "\n",
        "  # Unzip the GloVe embeddings file\n",
        "  !unzip -q -o glove.6B.zip -d embeddings"
      ],
      "execution_count": null,
      "outputs": [
        {
          "output_type": "stream",
          "name": "stdout",
          "text": [
            "Downloading...\n",
            "From: https://nlp.stanford.edu/data/glove.6B.zip\n",
            "To: /content/glove.6B.zip\n",
            "100% 862M/862M [02:40<00:00, 5.37MB/s]\n"
          ]
        }
      ]
    },
    {
      "cell_type": "code",
      "metadata": {
        "id": "RHm4CAQXqA-B"
      },
      "source": [
        "if PREPROCESS == True:\n",
        "\n",
        "  # Utilised functions\n",
        "  def sorted_alphanumeric(data):\n",
        "      convert = lambda text: int(text) if text.isdigit() else text.lower()\n",
        "      alphanum_key = lambda key: [ convert(c) for c in re.split('([0-9]+)', key) ] \n",
        "      return sorted(data, key=alphanum_key)\n",
        "\n",
        "  def get_input(row, embedd_dict):\n",
        "      global oov_dict\n",
        "\n",
        "      # Get the Tokens column\n",
        "      tokens = row['Tokens']\n",
        "\n",
        "      # Lower case all the tokens\n",
        "      tokens = [word.lower() for word in tokens]\n",
        "\n",
        "      # Create the Sentence column by joining the tokens\n",
        "      sentence = ' '.join(tokens)\n",
        "\n",
        "      # Create the Features column using GloVe embeddings on the tokens\n",
        "      features = []\n",
        "\n",
        "      for word in tokens:\n",
        "        # If the word is not in the GloVe dictionary (OOV), return random array\n",
        "          if word not in embedd_dict:\n",
        "              if word not in oov_dict:\n",
        "                  # Generate random array of size 300 and store in dict\n",
        "                  oov_dict[word] = np.random.rand(300)\n",
        "              \n",
        "              features.append(oov_dict[word])\n",
        "\n",
        "          else:\n",
        "            features.append(embedd_dict[word])\n",
        "      \n",
        "      return sentence, tokens, features\n",
        "\n",
        "  def get_output(row):\n",
        "\n",
        "      # Get the Tokens column\n",
        "      tokens = row['Tokens']\n",
        "\n",
        "      # Lower case all the tokens\n",
        "      tokens = [word.lower() for word in tokens]\n",
        "\n",
        "      # Create the Sentence column by joining the tokens\n",
        "      sentence = ' '.join(tokens)\n",
        "\n",
        "      # Create the Labels column by label encoding the tags\n",
        "      labels = []\n",
        "      for tag in row['Tags']: \n",
        "          labels.append(lab_dict[tag])\n",
        "\n",
        "      return sentence, labels\n",
        "\n",
        "  def one_hot_encode(text):\n",
        "\n",
        "      # One hot encode the output labels\n",
        "      encoded_labels = []\n",
        "\n",
        "      for sentence in text:\n",
        "          sentence_labels = []\n",
        "\n",
        "          for label in sentence:\n",
        "              # Create zeros array of length number of labels\n",
        "              zeros = np.zeros(len(lab_dict)+1, dtype=int)\n",
        "              # Index[LABEL] is set to 1\n",
        "              zeros[int(label)] = 1\n",
        "              sentence_labels.append(zeros)\n",
        "\n",
        "          encoded_labels.append(sentence_labels)\n",
        "\n",
        "      return encoded_labels"
      ],
      "execution_count": null,
      "outputs": []
    },
    {
      "cell_type": "code",
      "metadata": {
        "id": "znr7MM8TUAUH",
        "colab": {
          "base_uri": "https://localhost:8080/"
        },
        "outputId": "706bffc0-e65a-487c-8595-bc7baa74d88b"
      },
      "source": [
        "if PREPROCESS == True:\n",
        "\n",
        "  # Get the list of files of the dataset\n",
        "  path = '/content/dataset/dependency_treebank/'\n",
        "  files = os.listdir(path)\n",
        "  files = sorted_alphanumeric(files)\n",
        "\n",
        "  li = []\n",
        "  for filename in files:\n",
        "    \n",
        "      # Read the file into a dataframe\n",
        "      data = pd.read_csv(path + filename, sep='\\t', header=None)\n",
        "\n",
        "      tokens = []\n",
        "      tags = []\n",
        "\n",
        "      # Iterate through each row and append the tokens and tags to the lists\n",
        "      for index, row in data.iterrows():\n",
        "          tokens.append(row[0])\n",
        "          tags.append(row[1])\n",
        "\n",
        "          # If the word is a fullstop, start a new set of lists for the tokens and tags\n",
        "          if row[0] == '.':\n",
        "              file_num = int(filename[5:8])\n",
        "              li.append([tokens, tags, file_num])\n",
        "              tokens = []\n",
        "              tags = []\n",
        "\n",
        "  # Transform the list of lists into a new dataframe\n",
        "  df = pd.DataFrame(li, columns=['Tokens', 'Tags', 'File'])\n",
        "  print(f'Number of rows: {df.shape[0]}')\n",
        "  df.head()"
      ],
      "execution_count": null,
      "outputs": [
        {
          "output_type": "stream",
          "name": "stdout",
          "text": [
            "Number of rows: 3828\n"
          ]
        }
      ]
    },
    {
      "cell_type": "code",
      "metadata": {
        "id": "YUY4dMQbfyad",
        "colab": {
          "base_uri": "https://localhost:8080/"
        },
        "outputId": "ec6ba11b-4b3f-40fd-cacf-83de66ec6f4a"
      },
      "source": [
        "if PREPROCESS == True:\n",
        "\n",
        "  # Split the dataset for training, validation and test\n",
        "  train_df = df[df['File'] <= 100]\n",
        "  print(f'Number of training rows: {train_df.shape[0]}')\n",
        "\n",
        "  val_df = df[(df['File'] >= 101) & (df['File'] <= 150)]\n",
        "  print(f'Number of validation rows: {val_df.shape[0]}')\n",
        "\n",
        "  test_df = df[df['File'] >= 151]\n",
        "  print(f'Number of test rows: {test_df.shape[0]}')"
      ],
      "execution_count": null,
      "outputs": [
        {
          "output_type": "stream",
          "name": "stdout",
          "text": [
            "Number of training rows: 1936\n",
            "Number of validation rows: 1256\n",
            "Number of test rows: 636\n"
          ]
        }
      ]
    },
    {
      "cell_type": "code",
      "metadata": {
        "id": "irbS41iOdSji"
      },
      "source": [
        "if PREPROCESS == True:\n",
        "\n",
        "  # Create the dictionary of GloVe embeddings\n",
        "  embedd_dict = {}\n",
        "  with open('/content/embeddings/glove.6B.300d.txt','r') as f:\n",
        "      for line in f:\n",
        "          values = line.split()\n",
        "          word = values[0]\n",
        "          vector = np.asarray(values[1:], 'float32')\n",
        "          embedd_dict[word]=vector"
      ],
      "execution_count": null,
      "outputs": []
    },
    {
      "cell_type": "code",
      "metadata": {
        "id": "dRNfFN9zPmmS",
        "colab": {
          "base_uri": "https://localhost:8080/"
        },
        "outputId": "e774b098-2206-4894-8518-d3d3c3f61856"
      },
      "source": [
        "if PREPROCESS == True:\n",
        "\n",
        "  # Create the dictionary for POS tag labels\n",
        "  tags = set(np.concatenate(df['Tags']))\n",
        "  lab_dict = {tag:index+1 for index, tag in enumerate(sorted(tags))}\n",
        "  print(lab_dict)"
      ],
      "execution_count": null,
      "outputs": [
        {
          "output_type": "stream",
          "name": "stdout",
          "text": [
            "{'#': 1, '$': 2, \"''\": 3, ',': 4, '-LRB-': 5, '-RRB-': 6, '.': 7, ':': 8, 'CC': 9, 'CD': 10, 'DT': 11, 'EX': 12, 'FW': 13, 'IN': 14, 'JJ': 15, 'JJR': 16, 'JJS': 17, 'LS': 18, 'MD': 19, 'NN': 20, 'NNP': 21, 'NNPS': 22, 'NNS': 23, 'PDT': 24, 'POS': 25, 'PRP': 26, 'PRP$': 27, 'RB': 28, 'RBR': 29, 'RBS': 30, 'RP': 31, 'SYM': 32, 'TO': 33, 'UH': 34, 'VB': 35, 'VBD': 36, 'VBG': 37, 'VBN': 38, 'VBP': 39, 'VBZ': 40, 'WDT': 41, 'WP': 42, 'WP$': 43, 'WRB': 44, '``': 45}\n"
          ]
        }
      ]
    },
    {
      "cell_type": "markdown",
      "metadata": {
        "id": "CGgoNTLsKJlh"
      },
      "source": [
        "# OOV Terms"
      ]
    },
    {
      "cell_type": "code",
      "metadata": {
        "id": "5kCrXGL7qfeZ",
        "colab": {
          "base_uri": "https://localhost:8080/"
        },
        "outputId": "a76f4b98-c512-422a-a64f-2ffefedec231"
      },
      "source": [
        "if PREPROCESS == True:\n",
        "\n",
        "  # Create the input datasets\n",
        "\n",
        "  # Store already seen OOV words and the generated random vector\n",
        "  # Printing to see test OOV words haven't leaked into training data (should increase after each update)\n",
        "  global oov_dict\n",
        "  oov_dict = {}\n",
        "  update_dict = dict(embedd_dict)\n",
        "  print(\"Original length of embedd dict: \" + str(len(update_dict)))\n",
        "\n",
        "  data = train_df.apply(get_input, embedd_dict=update_dict, axis=1)\n",
        "  X_train = pd.DataFrame(list(data), columns=['Sentence', 'Tokens', 'Features'])\n",
        "  update_dict.update(oov_dict)\n",
        "  print(\"After processing train set:     \" + str(len(update_dict)))\n",
        "\n",
        "  data = val_df.apply(get_input, embedd_dict=update_dict, axis=1)\n",
        "  X_val = pd.DataFrame(list(data), columns=['Sentence', 'Tokens', 'Features'])\n",
        "  update_dict.update(oov_dict)\n",
        "  print(\"After processing val set:       \" + str(len(update_dict)))\n",
        "\n",
        "  data = test_df.apply(get_input, embedd_dict=update_dict, axis=1)\n",
        "  X_test = pd.DataFrame(list(data), columns=['Sentence', 'Tokens', 'Features'])\n",
        "  update_dict.update(oov_dict)\n",
        "  print(\"After processing test set:      \" + str(len(update_dict)))"
      ],
      "execution_count": null,
      "outputs": [
        {
          "output_type": "stream",
          "name": "stdout",
          "text": [
            "Original length of embedd dict: 400000\n",
            "After processing train set:     400359\n",
            "After processing val set:       400548\n",
            "After processing test set:      400676\n"
          ]
        }
      ]
    },
    {
      "cell_type": "code",
      "metadata": {
        "id": "vCcHMfb8sY0u"
      },
      "source": [
        "if PREPROCESS == True:\n",
        "\n",
        "  # Preview a sample input dataset\n",
        "  X_train.head()"
      ],
      "execution_count": null,
      "outputs": []
    },
    {
      "cell_type": "code",
      "metadata": {
        "id": "CCeSwyuilZLB"
      },
      "source": [
        "if PREPROCESS == True:\n",
        "\n",
        "  # Create the output datasets\n",
        "  data = train_df.apply(get_output, axis=1)\n",
        "  y_train = pd.DataFrame(list(data), columns=['Sentence', 'Labels'])\n",
        "\n",
        "  data = val_df.apply(get_output, axis=1)\n",
        "  y_val = pd.DataFrame(list(data), columns=['Sentence', 'Labels'])\n",
        "\n",
        "  data = test_df.apply(get_output, axis=1)\n",
        "  y_test = pd.DataFrame(list(data), columns=['Sentence', 'Labels'])"
      ],
      "execution_count": null,
      "outputs": []
    },
    {
      "cell_type": "code",
      "metadata": {
        "id": "yoGF8ViysgXE"
      },
      "source": [
        "if PREPROCESS == True:\n",
        "\n",
        "  # Preview a sample output dataset\n",
        "  y_train.head()"
      ],
      "execution_count": null,
      "outputs": []
    },
    {
      "cell_type": "code",
      "metadata": {
        "id": "nfGW0GEDQEs6",
        "colab": {
          "base_uri": "https://localhost:8080/"
        },
        "outputId": "0ba91836-9f0a-465c-ccc5-96b473f463bc"
      },
      "source": [
        "if PREPROCESS == True:\n",
        "\n",
        "  # Pad the sequences to the length of the longest sequence with zeros\n",
        "  max_length = 250\n",
        "  print(f'Maximum length of the sequence: {max_length}')\n",
        "\n",
        "  X_train['Features'] = list(pad_sequences(X_train['Features'], maxlen=max_length, padding='post', dtype='float32'))\n",
        "  y_train['Labels'] = list(pad_sequences(y_train['Labels'], maxlen=max_length, padding='post', dtype='float32'))\n",
        "\n",
        "  X_val['Features'] = list(pad_sequences(X_val['Features'], maxlen=max_length, padding='post', dtype='float32'))\n",
        "  y_val['Labels'] = list(pad_sequences(y_val['Labels'], maxlen=max_length, padding='post', dtype='float32'))\n",
        "\n",
        "  X_test['Features'] = list(pad_sequences(X_test['Features'], maxlen=max_length, padding='post', dtype='float32'))\n",
        "  y_test['Labels'] = list(pad_sequences(y_test['Labels'], maxlen=max_length, padding='post', dtype='float32'))"
      ],
      "execution_count": null,
      "outputs": [
        {
          "output_type": "stream",
          "name": "stdout",
          "text": [
            "Maximum length of the sequence: 250\n"
          ]
        }
      ]
    },
    {
      "cell_type": "code",
      "metadata": {
        "id": "_kWZgNd9N9iK"
      },
      "source": [
        "if PREPROCESS == True:\n",
        "\n",
        "  # One hot encode the labels\n",
        "  y_train['Labels'] = one_hot_encode(y_train['Labels'])\n",
        "  y_val['Labels'] = one_hot_encode(y_val['Labels'])\n",
        "  y_test['Labels'] = one_hot_encode(y_test['Labels'])"
      ],
      "execution_count": null,
      "outputs": []
    },
    {
      "cell_type": "code",
      "metadata": {
        "id": "IiquEt9_Jfz_",
        "colab": {
          "base_uri": "https://localhost:8080/"
        },
        "outputId": "d5978215-be9a-4a67-8bb2-3ef2a0b50ce8"
      },
      "source": [
        "if PREPROCESS == True:\n",
        "\n",
        "  # Get features and labels for training, validation and test\n",
        "  train_features = np.array(X_train['Features'].to_list(), dtype=np.float)\n",
        "  train_labels = np.array(y_train['Labels'].to_list(), dtype=np.float)\n",
        "\n",
        "  val_features = np.array(X_val['Features'].to_list(), dtype=np.float)\n",
        "  val_labels = np.array(y_val['Labels'].to_list(), dtype=np.float)\n",
        "\n",
        "  test_features = np.array(X_test['Features'].to_list(), dtype=np.float)\n",
        "  test_labels = np.array(y_test['Labels'].to_list(), dtype=np.float)"
      ],
      "execution_count": null,
      "outputs": [
        {
          "output_type": "stream",
          "name": "stderr",
          "text": [
            "/usr/local/lib/python3.7/dist-packages/ipykernel_launcher.py:4: DeprecationWarning: `np.float` is a deprecated alias for the builtin `float`. To silence this warning, use `float` by itself. Doing this will not modify any behavior and is safe. If you specifically wanted the numpy scalar type, use `np.float64` here.\n",
            "Deprecated in NumPy 1.20; for more details and guidance: https://numpy.org/devdocs/release/1.20.0-notes.html#deprecations\n",
            "  after removing the cwd from sys.path.\n",
            "/usr/local/lib/python3.7/dist-packages/ipykernel_launcher.py:5: DeprecationWarning: `np.float` is a deprecated alias for the builtin `float`. To silence this warning, use `float` by itself. Doing this will not modify any behavior and is safe. If you specifically wanted the numpy scalar type, use `np.float64` here.\n",
            "Deprecated in NumPy 1.20; for more details and guidance: https://numpy.org/devdocs/release/1.20.0-notes.html#deprecations\n",
            "  \"\"\"\n",
            "/usr/local/lib/python3.7/dist-packages/ipykernel_launcher.py:7: DeprecationWarning: `np.float` is a deprecated alias for the builtin `float`. To silence this warning, use `float` by itself. Doing this will not modify any behavior and is safe. If you specifically wanted the numpy scalar type, use `np.float64` here.\n",
            "Deprecated in NumPy 1.20; for more details and guidance: https://numpy.org/devdocs/release/1.20.0-notes.html#deprecations\n",
            "  import sys\n",
            "/usr/local/lib/python3.7/dist-packages/ipykernel_launcher.py:8: DeprecationWarning: `np.float` is a deprecated alias for the builtin `float`. To silence this warning, use `float` by itself. Doing this will not modify any behavior and is safe. If you specifically wanted the numpy scalar type, use `np.float64` here.\n",
            "Deprecated in NumPy 1.20; for more details and guidance: https://numpy.org/devdocs/release/1.20.0-notes.html#deprecations\n",
            "  \n",
            "/usr/local/lib/python3.7/dist-packages/ipykernel_launcher.py:10: DeprecationWarning: `np.float` is a deprecated alias for the builtin `float`. To silence this warning, use `float` by itself. Doing this will not modify any behavior and is safe. If you specifically wanted the numpy scalar type, use `np.float64` here.\n",
            "Deprecated in NumPy 1.20; for more details and guidance: https://numpy.org/devdocs/release/1.20.0-notes.html#deprecations\n",
            "  # Remove the CWD from sys.path while we load stuff.\n",
            "/usr/local/lib/python3.7/dist-packages/ipykernel_launcher.py:11: DeprecationWarning: `np.float` is a deprecated alias for the builtin `float`. To silence this warning, use `float` by itself. Doing this will not modify any behavior and is safe. If you specifically wanted the numpy scalar type, use `np.float64` here.\n",
            "Deprecated in NumPy 1.20; for more details and guidance: https://numpy.org/devdocs/release/1.20.0-notes.html#deprecations\n",
            "  # This is added back by InteractiveShellApp.init_path()\n"
          ]
        }
      ]
    },
    {
      "cell_type": "markdown",
      "metadata": {
        "id": "VDg-5bJc-V4Y"
      },
      "source": [
        "# Model Architectures"
      ]
    },
    {
      "cell_type": "code",
      "metadata": {
        "id": "UdmJjXlIjB_z"
      },
      "source": [
        "if TRAIN == True or TEST == True:\n",
        "\n",
        "  # Utilised functions\n",
        "  def ignore_class_accuracy(to_ignore=0):\n",
        "      def ignore_accuracy(y_true, y_pred):\n",
        "          y_true_class = K.argmax(y_true, axis=-1)\n",
        "          y_pred_class = K.argmax(y_pred, axis=-1)\n",
        "  \n",
        "          ignore_mask = K.cast(K.not_equal(y_pred_class, to_ignore), 'int32')\n",
        "          matches = K.cast(K.equal(y_true_class, y_pred_class), 'int32') * ignore_mask\n",
        "          accuracy = K.sum(matches) / K.maximum(K.sum(ignore_mask), 1)\n",
        "          return accuracy\n",
        "      return ignore_accuracy"
      ],
      "execution_count": null,
      "outputs": []
    },
    {
      "cell_type": "markdown",
      "metadata": {
        "id": "804srVwBQUJ0"
      },
      "source": [
        "#### Bidirectional LSTM with a Dense layer"
      ]
    },
    {
      "cell_type": "code",
      "metadata": {
        "id": "H7gv05GDJh06"
      },
      "source": [
        "if TRAIN == True:\n",
        "\n",
        "  # Define the model architecture\n",
        "  def baseline_model(hp):\n",
        "      model = Sequential()\n",
        "      model.add(InputLayer(input_shape=(250, 300)))\n",
        "      model.add(Bidirectional(LSTM(units=hp.Int('units', min_value=192, max_value=320, step=64, default=256), return_sequences=True)))\n",
        "      model.add(TimeDistributed(Dense(46)))\n",
        "      model.add(Activation('softmax'))\n",
        "      model.compile(optimizer=Adam(hp.Choice('learning_rate', values=[1e-2, 1e-3, 1e-4])), \n",
        "                    loss='categorical_crossentropy', metrics=['accuracy', ignore_class_accuracy(0)])\n",
        "      return model\n",
        "\n",
        "  # Hyperparameter optimization using random search\n",
        "  tuner = RandomSearch(baseline_model, objective=Objective('val_ignore_accuracy', direction='max'), max_trials=3, overwrite=True)\n",
        "  tuner.search(train_features, train_labels, epochs=2, validation_data=(val_features, val_labels))"
      ],
      "execution_count": null,
      "outputs": []
    },
    {
      "cell_type": "code",
      "metadata": {
        "id": "YlspzXx6M39V"
      },
      "source": [
        "if TRAIN == True:\n",
        "\n",
        "  # Plot the model architecture\n",
        "  plot_model(tuner.get_best_models()[0], to_file='model_plot.png', show_shapes=True, show_layer_names=True)"
      ],
      "execution_count": null,
      "outputs": []
    },
    {
      "cell_type": "code",
      "metadata": {
        "id": "uHzO17ymDZN2"
      },
      "source": [
        "if TRAIN == True:\n",
        "\n",
        "  # Train the best model for 10 epochs\n",
        "  best_baseline_model = tuner.hypermodel.build(tuner.get_best_hyperparameters()[0])\n",
        "  best_baseline_model.fit(train_features, train_labels, epochs=10, validation_data=(val_features, val_labels))\n",
        "  best_baseline_model.save('models/best_baseline_model.h5')"
      ],
      "execution_count": null,
      "outputs": []
    },
    {
      "cell_type": "markdown",
      "metadata": {
        "id": "SKUoxyQuQcO2"
      },
      "source": [
        "#### Bidirectional GRU with a Dense layer"
      ]
    },
    {
      "cell_type": "code",
      "metadata": {
        "id": "_P4oXm6NNRTo"
      },
      "source": [
        "if TRAIN == True:\n",
        "\n",
        "  # Define the model architecture\n",
        "  def gru_model(hp):\n",
        "      model = Sequential()\n",
        "      model.add(InputLayer(input_shape=(250, 300)))\n",
        "      model.add(Bidirectional(GRU(units=hp.Int('units', min_value=192, max_value=320, step=64, default=256), return_sequences=True)))\n",
        "      model.add(TimeDistributed(Dense(46)))\n",
        "      model.add(Activation('softmax'))\n",
        "      model.compile(optimizer=Adam(hp.Choice('learning_rate', values=[1e-2, 1e-3, 1e-4])), \n",
        "                    loss='categorical_crossentropy', metrics=['accuracy', ignore_class_accuracy(0)])\n",
        "      return model\n",
        "\n",
        "  # Hyperparameter optimization using random search\n",
        "  tuner = RandomSearch(gru_model, objective=Objective('val_ignore_accuracy', direction='max'), max_trials=3, overwrite=True)\n",
        "  tuner.search(train_features, train_labels, epochs=2, validation_data=(val_features, val_labels))"
      ],
      "execution_count": null,
      "outputs": []
    },
    {
      "cell_type": "code",
      "metadata": {
        "id": "vSzIHLWefjg7"
      },
      "source": [
        "if TRAIN == True:\n",
        "\n",
        "  # Plot the model architecture\n",
        "  plot_model(tuner.get_best_models()[0], to_file='model_plot.png', show_shapes=True, show_layer_names=True)"
      ],
      "execution_count": null,
      "outputs": []
    },
    {
      "cell_type": "code",
      "metadata": {
        "id": "l8mN0JdqDc7b"
      },
      "source": [
        "if TRAIN == True:\n",
        "\n",
        "  # Train the best model for 10 epochs\n",
        "  best_gru_model = tuner.hypermodel.build(tuner.get_best_hyperparameters()[0])\n",
        "  best_gru_model.fit(train_features, train_labels, epochs=10, validation_data=(val_features, val_labels))\n",
        "  best_gru_model.save('models/best_gru_model.h5')"
      ],
      "execution_count": null,
      "outputs": []
    },
    {
      "cell_type": "markdown",
      "metadata": {
        "id": "qbD6F25CQkqa"
      },
      "source": [
        "#### Bidirectional LSTM with an additional LSTM layer and a Dense layer\n",
        "\n"
      ]
    },
    {
      "cell_type": "code",
      "metadata": {
        "id": "WBXPlr1wMpvD"
      },
      "source": [
        "if TRAIN == True:\n",
        "\n",
        "  # Define the model architecture\n",
        "  def additional_lstm_model(hp):\n",
        "      model = Sequential()\n",
        "      model.add(InputLayer(input_shape=(250, 300)))\n",
        "      model.add(Bidirectional(LSTM(units=hp.Int('units', min_value=192, max_value=320, step=64, default=256), return_sequences=True)))\n",
        "      model.add(Bidirectional(LSTM(20, return_sequences=True)))\n",
        "      model.add(TimeDistributed(Dense(46)))\n",
        "      model.add(Activation('softmax'))\n",
        "      model.compile(optimizer=Adam(hp.Choice('learning_rate', values=[1e-2, 1e-3, 1e-4])), \n",
        "                    loss='categorical_crossentropy', metrics=['accuracy', ignore_class_accuracy(0)])\n",
        "      return model\n",
        "\n",
        "  # Hyperparameter optimization using random search\n",
        "  tuner = RandomSearch(additional_lstm_model, objective=Objective('val_ignore_accuracy', direction='max'), max_trials=3, overwrite=True)\n",
        "  tuner.search(train_features, train_labels, epochs=2, validation_data=(val_features, val_labels))"
      ],
      "execution_count": null,
      "outputs": []
    },
    {
      "cell_type": "code",
      "metadata": {
        "id": "UmFQMrQxgFYh"
      },
      "source": [
        "if TRAIN == True:\n",
        "\n",
        "  # Plot the model architecture\n",
        "  plot_model(tuner.get_best_models()[0], to_file='model_plot.png', show_shapes=True, show_layer_names=True)"
      ],
      "execution_count": null,
      "outputs": []
    },
    {
      "cell_type": "code",
      "metadata": {
        "id": "7iCbgbqeDot1"
      },
      "source": [
        "if TRAIN == True:\n",
        "\n",
        "  # Train the best model for 10 epochs\n",
        "  best_additional_lstm_model = tuner.hypermodel.build(tuner.get_best_hyperparameters()[0])\n",
        "  best_additional_lstm_model.fit(train_features, train_labels, epochs=10, validation_data=(val_features, val_labels))\n",
        "  best_additional_lstm_model.save('models/best_additional_lstm_model.h5')"
      ],
      "execution_count": null,
      "outputs": []
    },
    {
      "cell_type": "markdown",
      "metadata": {
        "id": "34YuQS7VQrdU"
      },
      "source": [
        "#### Bidirectional LSTM with two Dense layers\n",
        "\n"
      ]
    },
    {
      "cell_type": "code",
      "metadata": {
        "id": "05PwpEI2M4AF"
      },
      "source": [
        "if TRAIN == True:\n",
        "\n",
        "  # Define the model architecture\n",
        "  def additional_dense_model(hp):\n",
        "      model = Sequential()\n",
        "      model.add(InputLayer(input_shape=(250, 300)))\n",
        "      model.add(Bidirectional(LSTM(units=hp.Int('units', min_value=192, max_value=320, step=64, default=256), return_sequences=True)))\n",
        "      model.add(TimeDistributed(Dense(46)))\n",
        "      model.add(TimeDistributed(Dense(46)))\n",
        "      model.add(Activation('softmax'))\n",
        "      model.compile(optimizer=Adam(hp.Choice('learning_rate', values=[1e-2, 1e-3, 1e-4])), \n",
        "                    loss='categorical_crossentropy', metrics=['accuracy', ignore_class_accuracy(0)])\n",
        "      return model\n",
        "\n",
        "  # Hyperparameter optimization using random search\n",
        "  tuner = RandomSearch(additional_dense_model, objective=Objective('val_ignore_accuracy', direction='max'), max_trials=3, overwrite=True)\n",
        "  tuner.search(train_features, train_labels, epochs=2, validation_data=(val_features, val_labels))"
      ],
      "execution_count": null,
      "outputs": []
    },
    {
      "cell_type": "code",
      "metadata": {
        "id": "X8FDUFlkgLpD"
      },
      "source": [
        "if TRAIN == True:\n",
        "\n",
        "  # Plot the model architecture\n",
        "  plot_model(tuner.get_best_models()[0], to_file='model_plot.png', show_shapes=True, show_layer_names=True)"
      ],
      "execution_count": null,
      "outputs": []
    },
    {
      "cell_type": "code",
      "metadata": {
        "id": "GtjSNr-eDx1O"
      },
      "source": [
        "if TRAIN == True:\n",
        "\n",
        "  # Train the best model for 10 epochs\n",
        "  best_additional_dense_model = tuner.hypermodel.build(tuner.get_best_hyperparameters()[0])\n",
        "  best_additional_dense_model.fit(train_features, train_labels, epochs=10, validation_data=(val_features, val_labels))\n",
        "  best_additional_dense_model.save('models/best_additional_dense_model.h5')"
      ],
      "execution_count": null,
      "outputs": []
    },
    {
      "cell_type": "markdown",
      "metadata": {
        "id": "A3CoVJZy-J7j"
      },
      "source": [
        "# Model Evaluation"
      ]
    },
    {
      "cell_type": "code",
      "metadata": {
        "colab": {
          "base_uri": "https://localhost:8080/"
        },
        "id": "89lGfaJNrXMk",
        "outputId": "952fd3c7-1325-4d68-b314-d5b834085328"
      },
      "source": [
        "if TEST == True:\n",
        "\n",
        "  # Download the trained models\n",
        "  !gdown --id 1OLqie9T-iERKa5KeUSwecg5OAZKBUtXn\n",
        "\n",
        "  # Unzip the trained models\n",
        "  !unzip -q -o models.zip -d models"
      ],
      "execution_count": null,
      "outputs": [
        {
          "output_type": "stream",
          "name": "stdout",
          "text": [
            "Downloading...\n",
            "From: https://drive.google.com/uc?id=1OLqie9T-iERKa5KeUSwecg5OAZKBUtXn\n",
            "To: /content/models.zip\n",
            "100% 51.8M/51.8M [00:00<00:00, 101MB/s]\n"
          ]
        }
      ]
    },
    {
      "cell_type": "code",
      "metadata": {
        "id": "voruatvd2-G-"
      },
      "source": [
        "if TEST == True:\n",
        "\n",
        "  # Utilised functions\n",
        "  def modify_var(true, pred, indices):\n",
        "    true = true.argmax(2)\n",
        "    pred = pred.argmax(2)\n",
        "\n",
        "    true_nopad = []\n",
        "    pred_nopad = []\n",
        "\n",
        "    for t, p in zip(true, pred):\n",
        "        for i, el in enumerate(t):\n",
        "            if el !=0 and el not in indices:\n",
        "                true_nopad.append(el)\n",
        "                pred_nopad.append(p[i])\n",
        "    return true_nopad, pred_nopad"
      ],
      "execution_count": null,
      "outputs": []
    },
    {
      "cell_type": "code",
      "metadata": {
        "id": "XM51gza-0wGE"
      },
      "source": [
        "if TEST == True:\n",
        "\n",
        "  # Select the two best models based on the validation ignore accuracy\n",
        "  best_first_model = load_model('/content/models/models/best_baseline_model.h5', \n",
        "                                custom_objects={'ignore_class_accuracy': ignore_class_accuracy}, compile=False)\n",
        "\n",
        "  best_second_model = load_model('/content/models/models/best_gru_model.h5', \n",
        "                                custom_objects={'ignore_class_accuracy': ignore_class_accuracy}, compile=False)\n",
        "\n",
        "  # Compile the models\n",
        "  best_first_model.compile(optimizer='adam', loss='categorical_crossentropy', metrics=['accuracy', ignore_class_accuracy])\n",
        "  best_second_model.compile(optimizer='adam', loss='categorical_crossentropy', metrics=['accuracy', ignore_class_accuracy])"
      ],
      "execution_count": null,
      "outputs": []
    },
    {
      "cell_type": "code",
      "metadata": {
        "id": "qSkrmOw9X413"
      },
      "source": [
        "if TEST == True:\n",
        "\n",
        "  # Get the predictions of the best models using the test features\n",
        "  first_pred_labels = best_first_model.predict(test_features)\n",
        "  second_pred_labels = best_second_model.predict(test_features)"
      ],
      "execution_count": null,
      "outputs": []
    },
    {
      "cell_type": "code",
      "metadata": {
        "colab": {
          "base_uri": "https://localhost:8080/"
        },
        "id": "j1xQA5ay27vD",
        "outputId": "5e99bf31-0172-4c65-a6e7-943ec32c2ee5"
      },
      "source": [
        "if TEST == True:\n",
        "\n",
        "  # Define the punctuation columns to remove\n",
        "  indices = [lab_dict.get(key) for key in [\"$\", \",\", \".\", \":\", \"#\", \"``\", \"''\", \"-LRB-\", \"-RRB-\"]]\n",
        "  print(indices)"
      ],
      "execution_count": null,
      "outputs": [
        {
          "output_type": "stream",
          "name": "stdout",
          "text": [
            "[2, 4, 7, 8, 1, 45, 3, 5, 6]\n"
          ]
        }
      ]
    },
    {
      "cell_type": "code",
      "metadata": {
        "id": "vzsBjACy2t_h",
        "colab": {
          "base_uri": "https://localhost:8080/",
          "height": 877
        },
        "outputId": "96422a82-72f0-4119-ff73-75f8bc99f630"
      },
      "source": [
        "if TEST == True:\n",
        "\n",
        "  # Print the confusion matrix of the 1st Model\n",
        "  true_var, pred_var = modify_var(test_labels, first_pred_labels, indices)\n",
        "  cm_one = confusion_matrix(true_var, pred_var)\n",
        "  display = ConfusionMatrixDisplay(confusion_matrix=cm_one, display_labels=[t for t, i in lab_dict.items() if i in list(set(test_labels.argmax(2).flatten()) - set(indices))])\n",
        "  fig, ax = plt.subplots(figsize=(20, 15))\n",
        "  display.plot(include_values=True, ax=ax)\n",
        "  plt.show()"
      ],
      "execution_count": null,
      "outputs": [
        {
          "output_type": "display_data",
          "data": {
            "text/plain": [
              "<Figure size 1440x1080 with 2 Axes>"
            ],
            "image/png": "[encoded data removed]"
          },
          "metadata": {
            "needs_background": "light"
          }
        }
      ]
    },
    {
      "cell_type": "code",
      "metadata": {
        "id": "aKBSc6QzNiXC",
        "colab": {
          "base_uri": "https://localhost:8080/",
          "height": 877
        },
        "outputId": "f6a40901-7785-4fbe-f53b-34b6729286f9"
      },
      "source": [
        "if TEST == True:\n",
        "\n",
        "  # Print the confusion matrix for the 2nd Model\n",
        "  true_var, pred_var = modify_var(test_labels, second_pred_labels, indices)\n",
        "  cm_two = confusion_matrix(true_var, pred_var)\n",
        "  display = ConfusionMatrixDisplay(confusion_matrix=cm_two, display_labels=[t for t, i in lab_dict.items() if i in list(set(test_labels.argmax(2).flatten()) - set(indices))])\n",
        "  fig, ax = plt.subplots(figsize=(20, 15))\n",
        "  display.plot(include_values=True, ax=ax)\n",
        "  plt.show()"
      ],
      "execution_count": null,
      "outputs": [
        {
          "output_type": "display_data",
          "data": {
            "text/plain": [
              "<Figure size 1440x1080 with 2 Axes>"
            ],
            "image/png": "[encoded data removed]"
          },
          "metadata": {
            "needs_background": "light"
          }
        }
      ]
    },
    {
      "cell_type": "code",
      "metadata": {
        "id": "fGhKkfE-ZHpO",
        "colab": {
          "base_uri": "https://localhost:8080/"
        },
        "outputId": "0c755491-6739-4164-ea6b-f0ba929d183d"
      },
      "source": [
        "# Calculate the F1 macro score\n",
        "true_nopad, first_pred_nopad = modify_var(test_labels, first_pred_labels, indices)\n",
        "true_nopad, second_pred_nopad = modify_var(test_labels, second_pred_labels, indices)\n",
        "first_f1_macro = f1_score(true_nopad, first_pred_nopad, average='macro', zero_division=1)\n",
        "second_f1_macro = f1_score(true_nopad, second_pred_nopad, average='macro', zero_division=1)\n",
        "\n",
        "# Print the performance of the models\n",
        "print('Best Models Performance')\n",
        "print(f'\\nFirst F1 Macro: {round(first_f1_macro, 3)}')\n",
        "print(f'\\nSecond F1 Macro: {round(second_f1_macro, 3)}')"
      ],
      "execution_count": null,
      "outputs": [
        {
          "output_type": "stream",
          "name": "stdout",
          "text": [
            "Best Models Performance\n",
            "\n",
            "First F1 Macro: 0.817\n",
            "\n",
            "Second F1 Macro: 0.84\n"
          ]
        }
      ]
    }
  ]
}