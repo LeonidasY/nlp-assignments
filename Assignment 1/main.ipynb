{
  "nbformat": 4,
  "nbformat_minor": 0,
  "metadata": {
    "colab": {
      "name": "Assignment_1.ipynb",
      "provenance": [],
      "collapsed_sections": [
        "6XBBH9cJY0gi",
        "CGgoNTLsKJlh",
        "SKUoxyQuQcO2",
        "qbD6F25CQkqa",
        "34YuQS7VQrdU"
      ]
    },
    "kernelspec": {
      "display_name": "Python 3",
      "name": "python3"
    },
    "language_info": {
      "name": "python"
    }
  },
  "cells": [
    {
      "cell_type": "markdown",
      "metadata": {
        "id": "6XBBH9cJY0gi"
      },
      "source": [
        "# Data Preparation"
      ]
    },
    {
      "cell_type": "code",
      "metadata": {
        "id": "bFLL94yCkYqd",
        "colab": {
          "base_uri": "https://localhost:8080/"
        },
        "outputId": "0197ab24-ec54-46d3-e612-8c5cb588eea2"
      },
      "source": [
        "# Download the dataset\n",
        "!gdown https://raw.githubusercontent.com/nltk/nltk_data/gh-pages/packages/corpora/dependency_treebank.zip\n",
        "\n",
        "# Unzip the dataset\n",
        "!unzip -q -o dependency_treebank.zip -d dataset"
      ],
      "execution_count": 1,
      "outputs": [
        {
          "output_type": "stream",
          "name": "stdout",
          "text": [
            "Downloading...\n",
            "From: https://raw.githubusercontent.com/nltk/nltk_data/gh-pages/packages/corpora/dependency_treebank.zip\n",
            "To: /content/dependency_treebank.zip\n",
            "\r  0% 0.00/457k [00:00<?, ?B/s]\r100% 457k/457k [00:00<00:00, 14.4MB/s]\n"
          ]
        }
      ]
    },
    {
      "cell_type": "code",
      "metadata": {
        "id": "TX_yA4bVjcvu",
        "colab": {
          "base_uri": "https://localhost:8080/"
        },
        "outputId": "182fb8e7-8730-4c01-f062-56bd658f4830"
      },
      "source": [
        "# Download the GloVe embeddings file\n",
        "!gdown https://nlp.stanford.edu/data/glove.6B.zip\n",
        "\n",
        "# Unzip the GloVe embeddings file\n",
        "!unzip -q -o glove.6B.zip -d embeddings"
      ],
      "execution_count": 2,
      "outputs": [
        {
          "output_type": "stream",
          "name": "stdout",
          "text": [
            "Downloading...\n",
            "From: https://nlp.stanford.edu/data/glove.6B.zip\n",
            "To: /content/glove.6B.zip\n",
            "100% 862M/862M [02:39<00:00, 5.40MB/s]\n"
          ]
        }
      ]
    },
    {
      "cell_type": "code",
      "metadata": {
        "id": "UnGpbVDjQheg"
      },
      "source": [
        "# Import the necessary libraries\n",
        "import os\n",
        "import re\n",
        "import numpy as np\n",
        "import pandas as pd\n",
        "from keras.preprocessing.sequence import pad_sequences"
      ],
      "execution_count": 3,
      "outputs": []
    },
    {
      "cell_type": "code",
      "metadata": {
        "id": "RHm4CAQXqA-B"
      },
      "source": [
        "# Utilised functions\n",
        "def sorted_alphanumeric(data):\n",
        "    convert = lambda text: int(text) if text.isdigit() else text.lower()\n",
        "    alphanum_key = lambda key: [ convert(c) for c in re.split('([0-9]+)', key) ] \n",
        "    return sorted(data, key=alphanum_key)\n",
        "\n",
        "def get_input(row, embedd_dict):\n",
        "    global oov_dict\n",
        "\n",
        "    # Get the Tokens column\n",
        "    tokens = row['Tokens']\n",
        "\n",
        "    # Lower case all the tokens\n",
        "    tokens = [word.lower() for word in tokens]\n",
        "\n",
        "    # Create the Sentence column by joining the tokens\n",
        "    sentence = ' '.join(tokens)\n",
        "\n",
        "    # Create the Features column using GloVe embeddings on the tokens\n",
        "    features = []\n",
        "\n",
        "    for word in tokens:\n",
        "      # If the word is not in the GloVe dictionary (OOV), return random array\n",
        "        if word not in embedd_dict:\n",
        "            if word not in oov_dict:\n",
        "                # Generate random array of size 300 and store in dict\n",
        "                oov_dict[word] = np.random.rand(300)\n",
        "            \n",
        "            features.append(oov_dict[word])\n",
        "\n",
        "        else:\n",
        "          features.append(embedd_dict[word])\n",
        "    \n",
        "    return sentence, tokens, features\n",
        "\n",
        "def get_output(row):\n",
        "\n",
        "    # Get the Tokens column\n",
        "    tokens = row['Tokens']\n",
        "\n",
        "    # Lower case all the tokens\n",
        "    tokens = [word.lower() for word in tokens]\n",
        "\n",
        "    # Create the Sentence column by joining the tokens\n",
        "    sentence = ' '.join(tokens)\n",
        "\n",
        "    # Create the Labels column by label encoding the tags\n",
        "    labels = []\n",
        "    for tag in row['Tags']: \n",
        "        labels.append(lab_dict[tag])\n",
        "\n",
        "    return sentence, labels\n",
        "\n",
        "def one_hot_encode(text):\n",
        "\n",
        "    # One hot encode the output labels\n",
        "    encoded_labels = []\n",
        "\n",
        "    for sentence in text:\n",
        "        sentence_labels = []\n",
        "\n",
        "        for label in sentence:\n",
        "            # Create zeros array of length number of labels\n",
        "            zeros = np.zeros(len(lab_dict)+1, dtype=int)\n",
        "            # Index[LABEL] is set to 1\n",
        "            zeros[int(label)] = 1\n",
        "            sentence_labels.append(zeros)\n",
        "\n",
        "        encoded_labels.append(sentence_labels)\n",
        "\n",
        "    return encoded_labels"
      ],
      "execution_count": 4,
      "outputs": []
    },
    {
      "cell_type": "code",
      "metadata": {
        "id": "znr7MM8TUAUH",
        "colab": {
          "base_uri": "https://localhost:8080/",
          "height": 1000
        },
        "outputId": "a2c071b5-cd97-4bb4-b22f-0a38e6634e0f"
      },
      "source": [
        "# Get the list of files of the dataset\n",
        "path = '/content/dataset/dependency_treebank/'\n",
        "files = os.listdir(path)\n",
        "files = sorted_alphanumeric(files)\n",
        "\n",
        "li = []\n",
        "for filename in files:\n",
        "  \n",
        "    # Read the file into a dataframe\n",
        "    data = pd.read_csv(path + filename, sep='\\t', header=None)\n",
        "\n",
        "    tokens = []\n",
        "    tags = []\n",
        "\n",
        "    # Iterate through each row and append the tokens and tags to the lists\n",
        "    for index, row in data.iterrows():\n",
        "        tokens.append(row[0])\n",
        "        tags.append(row[1])\n",
        "\n",
        "        # If the word is a fullstop, start a new set of lists for the tokens and tags\n",
        "        if row[0] == '.':\n",
        "            file_num = int(filename[5:8])\n",
        "            li.append([tokens, tags, file_num])\n",
        "            tokens = []\n",
        "            tags = []\n",
        "\n",
        "# Transform the list of lists into a new dataframe\n",
        "df = pd.DataFrame(li, columns=['Tokens', 'Tags', 'File'])\n",
        "print(f'Number of rows: {df.shape[0]}')\n",
        "df.head()"
      ],
      "execution_count": 5,
      "outputs": [
        {
          "output_type": "stream",
          "name": "stdout",
          "text": [
            "Number of rows: 3828\n"
          ]
        },
        {
          "output_type": "execute_result",
          "data": {
            "text/html": [
              "\n",
              "  <div id=\"df-82ef9e9b-0769-46ac-b6ab-e4b372f7371a\">\n",
              "    <div class=\"colab-df-container\">\n",
              "      <div>\n",
              "<style scoped>\n",
              "    .dataframe tbody tr th:only-of-type {\n",
              "        vertical-align: middle;\n",
              "    }\n",
              "\n",
              "    .dataframe tbody tr th {\n",
              "        vertical-align: top;\n",
              "    }\n",
              "\n",
              "    .dataframe thead th {\n",
              "        text-align: right;\n",
              "    }\n",
              "</style>\n",
              "<table border=\"1\" class=\"dataframe\">\n",
              "  <thead>\n",
              "    <tr style=\"text-align: right;\">\n",
              "      <th></th>\n",
              "      <th>Tokens</th>\n",
              "      <th>Tags</th>\n",
              "      <th>File</th>\n",
              "    </tr>\n",
              "  </thead>\n",
              "  <tbody>\n",
              "    <tr>\n",
              "      <th>0</th>\n",
              "      <td>[Pierre, Vinken, ,, 61, years, old, ,, will, j...</td>\n",
              "      <td>[NNP, NNP, ,, CD, NNS, JJ, ,, MD, VB, DT, NN, ...</td>\n",
              "      <td>1</td>\n",
              "    </tr>\n",
              "    <tr>\n",
              "      <th>1</th>\n",
              "      <td>[Mr., Vinken, is, chairman, of, Elsevier, N.V....</td>\n",
              "      <td>[NNP, NNP, VBZ, NN, IN, NNP, NNP, ,, DT, NNP, ...</td>\n",
              "      <td>1</td>\n",
              "    </tr>\n",
              "    <tr>\n",
              "      <th>2</th>\n",
              "      <td>[Rudolph, Agnew, ,, 55, years, old, and, forme...</td>\n",
              "      <td>[NNP, NNP, ,, CD, NNS, JJ, CC, JJ, NN, IN, NNP...</td>\n",
              "      <td>2</td>\n",
              "    </tr>\n",
              "    <tr>\n",
              "      <th>3</th>\n",
              "      <td>[A, form, of, asbestos, once, used, to, make, ...</td>\n",
              "      <td>[DT, NN, IN, NN, RB, VBN, TO, VB, NNP, NN, NNS...</td>\n",
              "      <td>3</td>\n",
              "    </tr>\n",
              "    <tr>\n",
              "      <th>4</th>\n",
              "      <td>[The, asbestos, fiber, ,, crocidolite, ,, is, ...</td>\n",
              "      <td>[DT, NN, NN, ,, NN, ,, VBZ, RB, JJ, IN, PRP, V...</td>\n",
              "      <td>3</td>\n",
              "    </tr>\n",
              "  </tbody>\n",
              "</table>\n",
              "</div>\n",
              "      <button class=\"colab-df-convert\" onclick=\"convertToInteractive('df-82ef9e9b-0769-46ac-b6ab-e4b372f7371a')\"\n",
              "              title=\"Convert this dataframe to an interactive table.\"\n",
              "              style=\"display:none;\">\n",
              "        \n",
              "  <svg xmlns=\"http://www.w3.org/2000/svg\" height=\"24px\"viewBox=\"0 0 24 24\"\n",
              "       width=\"24px\">\n",
              "    <path d=\"M0 0h24v24H0V0z\" fill=\"none\"/>\n",
              "    <path d=\"M18.56 5.44l.94 2.06.94-2.06 2.06-.94-2.06-.94-.94-2.06-.94 2.06-2.06.94zm-11 1L8.5 8.5l.94-2.06 2.06-.94-2.06-.94L8.5 2.5l-.94 2.06-2.06.94zm10 10l.94 2.06.94-2.06 2.06-.94-2.06-.94-.94-2.06-.94 2.06-2.06.94z\"/><path d=\"M17.41 7.96l-1.37-1.37c-.4-.4-.92-.59-1.43-.59-.52 0-1.04.2-1.43.59L10.3 9.45l-7.72 7.72c-.78.78-.78 2.05 0 2.83L4 21.41c.39.39.9.59 1.41.59.51 0 1.02-.2 1.41-.59l7.78-7.78 2.81-2.81c.8-.78.8-2.07 0-2.86zM5.41 20L4 18.59l7.72-7.72 1.47 1.35L5.41 20z\"/>\n",
              "  </svg>\n",
              "      </button>\n",
              "      \n",
              "  <style>\n",
              "    .colab-df-container {\n",
              "      display:flex;\n",
              "      flex-wrap:wrap;\n",
              "      gap: 12px;\n",
              "    }\n",
              "\n",
              "    .colab-df-convert {\n",
              "      background-color: #E8F0FE;\n",
              "      border: none;\n",
              "      border-radius: 50%;\n",
              "      cursor: pointer;\n",
              "      display: none;\n",
              "      fill: #1967D2;\n",
              "      height: 32px;\n",
              "      padding: 0 0 0 0;\n",
              "      width: 32px;\n",
              "    }\n",
              "\n",
              "    .colab-df-convert:hover {\n",
              "      background-color: #E2EBFA;\n",
              "      box-shadow: 0px 1px 2px rgba(60, 64, 67, 0.3), 0px 1px 3px 1px rgba(60, 64, 67, 0.15);\n",
              "      fill: #174EA6;\n",
              "    }\n",
              "\n",
              "    [theme=dark] .colab-df-convert {\n",
              "      background-color: #3B4455;\n",
              "      fill: #D2E3FC;\n",
              "    }\n",
              "\n",
              "    [theme=dark] .colab-df-convert:hover {\n",
              "      background-color: #434B5C;\n",
              "      box-shadow: 0px 1px 3px 1px rgba(0, 0, 0, 0.15);\n",
              "      filter: drop-shadow(0px 1px 2px rgba(0, 0, 0, 0.3));\n",
              "      fill: #FFFFFF;\n",
              "    }\n",
              "  </style>\n",
              "\n",
              "      <script>\n",
              "        const buttonEl =\n",
              "          document.querySelector('#df-82ef9e9b-0769-46ac-b6ab-e4b372f7371a button.colab-df-convert');\n",
              "        buttonEl.style.display =\n",
              "          google.colab.kernel.accessAllowed ? 'block' : 'none';\n",
              "\n",
              "        async function convertToInteractive(key) {\n",
              "          const element = document.querySelector('#df-82ef9e9b-0769-46ac-b6ab-e4b372f7371a');\n",
              "          const dataTable =\n",
              "            await google.colab.kernel.invokeFunction('convertToInteractive',\n",
              "                                                     [key], {});\n",
              "          if (!dataTable) return;\n",
              "\n",
              "          const docLinkHtml = 'Like what you see? Visit the ' +\n",
              "            '<a target=\"_blank\" href=https://colab.research.google.com/notebooks/data_table.ipynb>data table notebook</a>'\n",
              "            + ' to learn more about interactive tables.';\n",
              "          element.innerHTML = '';\n",
              "          dataTable['output_type'] = 'display_data';\n",
              "          await google.colab.output.renderOutput(dataTable, element);\n",
              "          const docLink = document.createElement('div');\n",
              "          docLink.innerHTML = docLinkHtml;\n",
              "          element.appendChild(docLink);\n",
              "        }\n",
              "      </script>\n",
              "    </div>\n",
              "  </div>\n",
              "  "
            ],
            "text/plain": [
              "                                              Tokens  ... File\n",
              "0  [Pierre, Vinken, ,, 61, years, old, ,, will, j...  ...    1\n",
              "1  [Mr., Vinken, is, chairman, of, Elsevier, N.V....  ...    1\n",
              "2  [Rudolph, Agnew, ,, 55, years, old, and, forme...  ...    2\n",
              "3  [A, form, of, asbestos, once, used, to, make, ...  ...    3\n",
              "4  [The, asbestos, fiber, ,, crocidolite, ,, is, ...  ...    3\n",
              "\n",
              "[5 rows x 3 columns]"
            ]
          },
          "metadata": {},
          "execution_count": 5
        }
      ]
    },
    {
      "cell_type": "code",
      "metadata": {
        "id": "YUY4dMQbfyad",
        "colab": {
          "base_uri": "https://localhost:8080/"
        },
        "outputId": "4fecceb0-519b-4ddf-bd2e-05dd10b555b4"
      },
      "source": [
        "# Split the dataset for training, validation and test\n",
        "train_df = df[df['File'] <= 100]\n",
        "print(f'Number of training rows: {train_df.shape[0]}')\n",
        "\n",
        "val_df = df[(df['File'] >= 101) & (df['File'] <= 150)]\n",
        "print(f'Number of validation rows: {val_df.shape[0]}')\n",
        "\n",
        "test_df = df[df['File'] >= 151]\n",
        "print(f'Number of test rows: {test_df.shape[0]}')"
      ],
      "execution_count": 6,
      "outputs": [
        {
          "output_type": "stream",
          "name": "stdout",
          "text": [
            "Number of training rows: 1936\n",
            "Number of validation rows: 1256\n",
            "Number of test rows: 636\n"
          ]
        }
      ]
    },
    {
      "cell_type": "code",
      "metadata": {
        "id": "irbS41iOdSji"
      },
      "source": [
        "# Create the dictionary of GloVe embeddings\n",
        "embedd_dict = {}\n",
        "with open('/content/embeddings/glove.6B.300d.txt','r') as f:\n",
        "    for line in f:\n",
        "        values = line.split()\n",
        "        word = values[0]\n",
        "        vector = np.asarray(values[1:], 'float32')\n",
        "        embedd_dict[word]=vector"
      ],
      "execution_count": 7,
      "outputs": []
    },
    {
      "cell_type": "code",
      "metadata": {
        "id": "dRNfFN9zPmmS",
        "colab": {
          "base_uri": "https://localhost:8080/"
        },
        "outputId": "f8e62fe7-4f40-4a09-ad70-1a3e036e50ab"
      },
      "source": [
        "# Create the dictionary for POS tag labels\n",
        "tags = set(np.concatenate(df['Tags']))\n",
        "lab_dict = {tag:index+1 for index, tag in enumerate(sorted(tags))}\n",
        "print(lab_dict)"
      ],
      "execution_count": 8,
      "outputs": [
        {
          "output_type": "stream",
          "name": "stdout",
          "text": [
            "{'#': 1, '$': 2, \"''\": 3, ',': 4, '-LRB-': 5, '-RRB-': 6, '.': 7, ':': 8, 'CC': 9, 'CD': 10, 'DT': 11, 'EX': 12, 'FW': 13, 'IN': 14, 'JJ': 15, 'JJR': 16, 'JJS': 17, 'LS': 18, 'MD': 19, 'NN': 20, 'NNP': 21, 'NNPS': 22, 'NNS': 23, 'PDT': 24, 'POS': 25, 'PRP': 26, 'PRP$': 27, 'RB': 28, 'RBR': 29, 'RBS': 30, 'RP': 31, 'SYM': 32, 'TO': 33, 'UH': 34, 'VB': 35, 'VBD': 36, 'VBG': 37, 'VBN': 38, 'VBP': 39, 'VBZ': 40, 'WDT': 41, 'WP': 42, 'WP$': 43, 'WRB': 44, '``': 45}\n"
          ]
        }
      ]
    },
    {
      "cell_type": "markdown",
      "metadata": {
        "id": "CGgoNTLsKJlh"
      },
      "source": [
        "# OOV Terms"
      ]
    },
    {
      "cell_type": "code",
      "metadata": {
        "id": "5kCrXGL7qfeZ",
        "colab": {
          "base_uri": "https://localhost:8080/"
        },
        "outputId": "dcb7b1ee-0bae-4cf2-c7ee-426c875c4c0e"
      },
      "source": [
        "# Create the input datasets\n",
        "\n",
        "# Store already seen OOV words and the generated random vector\n",
        "# Printing to see test OOV words haven't leaked into training data (should increase after each update)\n",
        "global oov_dict\n",
        "oov_dict = {}\n",
        "update_dict = dict(embedd_dict)\n",
        "print(\"Original length of embedd dict: \" + str(len(update_dict)))\n",
        "\n",
        "data = train_df.apply(get_input, embedd_dict=update_dict, axis=1)\n",
        "X_train = pd.DataFrame(list(data), columns=['Sentence', 'Tokens', 'Features'])\n",
        "update_dict.update(oov_dict)\n",
        "print(\"After processing train set:     \" + str(len(update_dict)))\n",
        "\n",
        "data = val_df.apply(get_input, embedd_dict=update_dict, axis=1)\n",
        "X_val = pd.DataFrame(list(data), columns=['Sentence', 'Tokens', 'Features'])\n",
        "update_dict.update(oov_dict)\n",
        "print(\"After processing val set:       \" + str(len(update_dict)))\n",
        "\n",
        "data = test_df.apply(get_input, embedd_dict=update_dict, axis=1)\n",
        "X_test = pd.DataFrame(list(data), columns=['Sentence', 'Tokens', 'Features'])\n",
        "update_dict.update(oov_dict)\n",
        "print(\"After processing test set:      \" + str(len(update_dict)))"
      ],
      "execution_count": 9,
      "outputs": [
        {
          "output_type": "stream",
          "name": "stdout",
          "text": [
            "Original length of embedd dict: 400000\n",
            "After processing train set:     400359\n",
            "After processing val set:       400548\n",
            "After processing test set:      400676\n"
          ]
        }
      ]
    },
    {
      "cell_type": "code",
      "metadata": {
        "id": "vCcHMfb8sY0u",
        "colab": {
          "base_uri": "https://localhost:8080/",
          "height": 704
        },
        "outputId": "7ae6a1ca-1647-481d-be4d-f53c80332161"
      },
      "source": [
        "# Preview a sample input dataset\n",
        "X_train.head()"
      ],
      "execution_count": 10,
      "outputs": [
        {
          "output_type": "execute_result",
          "data": {
            "text/html": [
              "\n",
              "  <div id=\"df-b3007639-13a9-420b-ab21-069539e3de67\">\n",
              "    <div class=\"colab-df-container\">\n",
              "      <div>\n",
              "<style scoped>\n",
              "    .dataframe tbody tr th:only-of-type {\n",
              "        vertical-align: middle;\n",
              "    }\n",
              "\n",
              "    .dataframe tbody tr th {\n",
              "        vertical-align: top;\n",
              "    }\n",
              "\n",
              "    .dataframe thead th {\n",
              "        text-align: right;\n",
              "    }\n",
              "</style>\n",
              "<table border=\"1\" class=\"dataframe\">\n",
              "  <thead>\n",
              "    <tr style=\"text-align: right;\">\n",
              "      <th></th>\n",
              "      <th>Sentence</th>\n",
              "      <th>Tokens</th>\n",
              "      <th>Features</th>\n",
              "    </tr>\n",
              "  </thead>\n",
              "  <tbody>\n",
              "    <tr>\n",
              "      <th>0</th>\n",
              "      <td>pierre vinken , 61 years old , will join the b...</td>\n",
              "      <td>[pierre, vinken, ,, 61, years, old, ,, will, j...</td>\n",
              "      <td>[[0.28721, 0.12379, 0.067052, -0.0035319, 0.10...</td>\n",
              "    </tr>\n",
              "    <tr>\n",
              "      <th>1</th>\n",
              "      <td>mr. vinken is chairman of elsevier n.v. , the ...</td>\n",
              "      <td>[mr., vinken, is, chairman, of, elsevier, n.v....</td>\n",
              "      <td>[[-0.071507, -0.42564, 0.28118, -0.21948, -0.4...</td>\n",
              "    </tr>\n",
              "    <tr>\n",
              "      <th>2</th>\n",
              "      <td>rudolph agnew , 55 years old and former chairm...</td>\n",
              "      <td>[rudolph, agnew, ,, 55, years, old, and, forme...</td>\n",
              "      <td>[[-0.060039, -0.24845, 0.13872, -0.53702, 0.69...</td>\n",
              "    </tr>\n",
              "    <tr>\n",
              "      <th>3</th>\n",
              "      <td>a form of asbestos once used to make kent ciga...</td>\n",
              "      <td>[a, form, of, asbestos, once, used, to, make, ...</td>\n",
              "      <td>[[-0.29712, 0.094049, -0.096662, -0.344, -0.18...</td>\n",
              "    </tr>\n",
              "    <tr>\n",
              "      <th>4</th>\n",
              "      <td>the asbestos fiber , crocidolite , is unusuall...</td>\n",
              "      <td>[the, asbestos, fiber, ,, crocidolite, ,, is, ...</td>\n",
              "      <td>[[0.04656, 0.21318, -0.0074364, -0.45854, -0.0...</td>\n",
              "    </tr>\n",
              "  </tbody>\n",
              "</table>\n",
              "</div>\n",
              "      <button class=\"colab-df-convert\" onclick=\"convertToInteractive('df-b3007639-13a9-420b-ab21-069539e3de67')\"\n",
              "              title=\"Convert this dataframe to an interactive table.\"\n",
              "              style=\"display:none;\">\n",
              "        \n",
              "  <svg xmlns=\"http://www.w3.org/2000/svg\" height=\"24px\"viewBox=\"0 0 24 24\"\n",
              "       width=\"24px\">\n",
              "    <path d=\"M0 0h24v24H0V0z\" fill=\"none\"/>\n",
              "    <path d=\"M18.56 5.44l.94 2.06.94-2.06 2.06-.94-2.06-.94-.94-2.06-.94 2.06-2.06.94zm-11 1L8.5 8.5l.94-2.06 2.06-.94-2.06-.94L8.5 2.5l-.94 2.06-2.06.94zm10 10l.94 2.06.94-2.06 2.06-.94-2.06-.94-.94-2.06-.94 2.06-2.06.94z\"/><path d=\"M17.41 7.96l-1.37-1.37c-.4-.4-.92-.59-1.43-.59-.52 0-1.04.2-1.43.59L10.3 9.45l-7.72 7.72c-.78.78-.78 2.05 0 2.83L4 21.41c.39.39.9.59 1.41.59.51 0 1.02-.2 1.41-.59l7.78-7.78 2.81-2.81c.8-.78.8-2.07 0-2.86zM5.41 20L4 18.59l7.72-7.72 1.47 1.35L5.41 20z\"/>\n",
              "  </svg>\n",
              "      </button>\n",
              "      \n",
              "  <style>\n",
              "    .colab-df-container {\n",
              "      display:flex;\n",
              "      flex-wrap:wrap;\n",
              "      gap: 12px;\n",
              "    }\n",
              "\n",
              "    .colab-df-convert {\n",
              "      background-color: #E8F0FE;\n",
              "      border: none;\n",
              "      border-radius: 50%;\n",
              "      cursor: pointer;\n",
              "      display: none;\n",
              "      fill: #1967D2;\n",
              "      height: 32px;\n",
              "      padding: 0 0 0 0;\n",
              "      width: 32px;\n",
              "    }\n",
              "\n",
              "    .colab-df-convert:hover {\n",
              "      background-color: #E2EBFA;\n",
              "      box-shadow: 0px 1px 2px rgba(60, 64, 67, 0.3), 0px 1px 3px 1px rgba(60, 64, 67, 0.15);\n",
              "      fill: #174EA6;\n",
              "    }\n",
              "\n",
              "    [theme=dark] .colab-df-convert {\n",
              "      background-color: #3B4455;\n",
              "      fill: #D2E3FC;\n",
              "    }\n",
              "\n",
              "    [theme=dark] .colab-df-convert:hover {\n",
              "      background-color: #434B5C;\n",
              "      box-shadow: 0px 1px 3px 1px rgba(0, 0, 0, 0.15);\n",
              "      filter: drop-shadow(0px 1px 2px rgba(0, 0, 0, 0.3));\n",
              "      fill: #FFFFFF;\n",
              "    }\n",
              "  </style>\n",
              "\n",
              "      <script>\n",
              "        const buttonEl =\n",
              "          document.querySelector('#df-b3007639-13a9-420b-ab21-069539e3de67 button.colab-df-convert');\n",
              "        buttonEl.style.display =\n",
              "          google.colab.kernel.accessAllowed ? 'block' : 'none';\n",
              "\n",
              "        async function convertToInteractive(key) {\n",
              "          const element = document.querySelector('#df-b3007639-13a9-420b-ab21-069539e3de67');\n",
              "          const dataTable =\n",
              "            await google.colab.kernel.invokeFunction('convertToInteractive',\n",
              "                                                     [key], {});\n",
              "          if (!dataTable) return;\n",
              "\n",
              "          const docLinkHtml = 'Like what you see? Visit the ' +\n",
              "            '<a target=\"_blank\" href=https://colab.research.google.com/notebooks/data_table.ipynb>data table notebook</a>'\n",
              "            + ' to learn more about interactive tables.';\n",
              "          element.innerHTML = '';\n",
              "          dataTable['output_type'] = 'display_data';\n",
              "          await google.colab.output.renderOutput(dataTable, element);\n",
              "          const docLink = document.createElement('div');\n",
              "          docLink.innerHTML = docLinkHtml;\n",
              "          element.appendChild(docLink);\n",
              "        }\n",
              "      </script>\n",
              "    </div>\n",
              "  </div>\n",
              "  "
            ],
            "text/plain": [
              "                                            Sentence  ...                                           Features\n",
              "0  pierre vinken , 61 years old , will join the b...  ...  [[0.28721, 0.12379, 0.067052, -0.0035319, 0.10...\n",
              "1  mr. vinken is chairman of elsevier n.v. , the ...  ...  [[-0.071507, -0.42564, 0.28118, -0.21948, -0.4...\n",
              "2  rudolph agnew , 55 years old and former chairm...  ...  [[-0.060039, -0.24845, 0.13872, -0.53702, 0.69...\n",
              "3  a form of asbestos once used to make kent ciga...  ...  [[-0.29712, 0.094049, -0.096662, -0.344, -0.18...\n",
              "4  the asbestos fiber , crocidolite , is unusuall...  ...  [[0.04656, 0.21318, -0.0074364, -0.45854, -0.0...\n",
              "\n",
              "[5 rows x 3 columns]"
            ]
          },
          "metadata": {},
          "execution_count": 10
        }
      ]
    },
    {
      "cell_type": "code",
      "metadata": {
        "id": "CCeSwyuilZLB"
      },
      "source": [
        "# Create the output datasets\n",
        "data = train_df.apply(get_output, axis=1)\n",
        "y_train = pd.DataFrame(list(data), columns=['Sentence', 'Labels'])\n",
        "\n",
        "data = val_df.apply(get_output, axis=1)\n",
        "y_val = pd.DataFrame(list(data), columns=['Sentence', 'Labels'])\n",
        "\n",
        "data = test_df.apply(get_output, axis=1)\n",
        "y_test = pd.DataFrame(list(data), columns=['Sentence', 'Labels'])"
      ],
      "execution_count": 11,
      "outputs": []
    },
    {
      "cell_type": "code",
      "metadata": {
        "id": "yoGF8ViysgXE",
        "colab": {
          "base_uri": "https://localhost:8080/",
          "height": 774
        },
        "outputId": "5462b494-236d-4b3a-ad00-e1b2f2b8081f"
      },
      "source": [
        "# Preview a sample output dataset\n",
        "y_train.head()"
      ],
      "execution_count": 12,
      "outputs": [
        {
          "output_type": "execute_result",
          "data": {
            "text/html": [
              "\n",
              "  <div id=\"df-9a19b19e-a410-404c-b683-8d3c0d89cbbe\">\n",
              "    <div class=\"colab-df-container\">\n",
              "      <div>\n",
              "<style scoped>\n",
              "    .dataframe tbody tr th:only-of-type {\n",
              "        vertical-align: middle;\n",
              "    }\n",
              "\n",
              "    .dataframe tbody tr th {\n",
              "        vertical-align: top;\n",
              "    }\n",
              "\n",
              "    .dataframe thead th {\n",
              "        text-align: right;\n",
              "    }\n",
              "</style>\n",
              "<table border=\"1\" class=\"dataframe\">\n",
              "  <thead>\n",
              "    <tr style=\"text-align: right;\">\n",
              "      <th></th>\n",
              "      <th>Sentence</th>\n",
              "      <th>Labels</th>\n",
              "    </tr>\n",
              "  </thead>\n",
              "  <tbody>\n",
              "    <tr>\n",
              "      <th>0</th>\n",
              "      <td>pierre vinken , 61 years old , will join the b...</td>\n",
              "      <td>[21, 21, 4, 10, 23, 15, 4, 19, 35, 11, 20, 14,...</td>\n",
              "    </tr>\n",
              "    <tr>\n",
              "      <th>1</th>\n",
              "      <td>mr. vinken is chairman of elsevier n.v. , the ...</td>\n",
              "      <td>[21, 21, 40, 20, 14, 21, 21, 4, 11, 21, 37, 20...</td>\n",
              "    </tr>\n",
              "    <tr>\n",
              "      <th>2</th>\n",
              "      <td>rudolph agnew , 55 years old and former chairm...</td>\n",
              "      <td>[21, 21, 4, 10, 23, 15, 9, 15, 20, 14, 21, 21,...</td>\n",
              "    </tr>\n",
              "    <tr>\n",
              "      <th>3</th>\n",
              "      <td>a form of asbestos once used to make kent ciga...</td>\n",
              "      <td>[11, 20, 14, 20, 28, 38, 33, 35, 21, 20, 23, 4...</td>\n",
              "    </tr>\n",
              "    <tr>\n",
              "      <th>4</th>\n",
              "      <td>the asbestos fiber , crocidolite , is unusuall...</td>\n",
              "      <td>[11, 20, 20, 4, 20, 4, 40, 28, 15, 14, 26, 40,...</td>\n",
              "    </tr>\n",
              "  </tbody>\n",
              "</table>\n",
              "</div>\n",
              "      <button class=\"colab-df-convert\" onclick=\"convertToInteractive('df-9a19b19e-a410-404c-b683-8d3c0d89cbbe')\"\n",
              "              title=\"Convert this dataframe to an interactive table.\"\n",
              "              style=\"display:none;\">\n",
              "        \n",
              "  <svg xmlns=\"http://www.w3.org/2000/svg\" height=\"24px\"viewBox=\"0 0 24 24\"\n",
              "       width=\"24px\">\n",
              "    <path d=\"M0 0h24v24H0V0z\" fill=\"none\"/>\n",
              "    <path d=\"M18.56 5.44l.94 2.06.94-2.06 2.06-.94-2.06-.94-.94-2.06-.94 2.06-2.06.94zm-11 1L8.5 8.5l.94-2.06 2.06-.94-2.06-.94L8.5 2.5l-.94 2.06-2.06.94zm10 10l.94 2.06.94-2.06 2.06-.94-2.06-.94-.94-2.06-.94 2.06-2.06.94z\"/><path d=\"M17.41 7.96l-1.37-1.37c-.4-.4-.92-.59-1.43-.59-.52 0-1.04.2-1.43.59L10.3 9.45l-7.72 7.72c-.78.78-.78 2.05 0 2.83L4 21.41c.39.39.9.59 1.41.59.51 0 1.02-.2 1.41-.59l7.78-7.78 2.81-2.81c.8-.78.8-2.07 0-2.86zM5.41 20L4 18.59l7.72-7.72 1.47 1.35L5.41 20z\"/>\n",
              "  </svg>\n",
              "      </button>\n",
              "      \n",
              "  <style>\n",
              "    .colab-df-container {\n",
              "      display:flex;\n",
              "      flex-wrap:wrap;\n",
              "      gap: 12px;\n",
              "    }\n",
              "\n",
              "    .colab-df-convert {\n",
              "      background-color: #E8F0FE;\n",
              "      border: none;\n",
              "      border-radius: 50%;\n",
              "      cursor: pointer;\n",
              "      display: none;\n",
              "      fill: #1967D2;\n",
              "      height: 32px;\n",
              "      padding: 0 0 0 0;\n",
              "      width: 32px;\n",
              "    }\n",
              "\n",
              "    .colab-df-convert:hover {\n",
              "      background-color: #E2EBFA;\n",
              "      box-shadow: 0px 1px 2px rgba(60, 64, 67, 0.3), 0px 1px 3px 1px rgba(60, 64, 67, 0.15);\n",
              "      fill: #174EA6;\n",
              "    }\n",
              "\n",
              "    [theme=dark] .colab-df-convert {\n",
              "      background-color: #3B4455;\n",
              "      fill: #D2E3FC;\n",
              "    }\n",
              "\n",
              "    [theme=dark] .colab-df-convert:hover {\n",
              "      background-color: #434B5C;\n",
              "      box-shadow: 0px 1px 3px 1px rgba(0, 0, 0, 0.15);\n",
              "      filter: drop-shadow(0px 1px 2px rgba(0, 0, 0, 0.3));\n",
              "      fill: #FFFFFF;\n",
              "    }\n",
              "  </style>\n",
              "\n",
              "      <script>\n",
              "        const buttonEl =\n",
              "          document.querySelector('#df-9a19b19e-a410-404c-b683-8d3c0d89cbbe button.colab-df-convert');\n",
              "        buttonEl.style.display =\n",
              "          google.colab.kernel.accessAllowed ? 'block' : 'none';\n",
              "\n",
              "        async function convertToInteractive(key) {\n",
              "          const element = document.querySelector('#df-9a19b19e-a410-404c-b683-8d3c0d89cbbe');\n",
              "          const dataTable =\n",
              "            await google.colab.kernel.invokeFunction('convertToInteractive',\n",
              "                                                     [key], {});\n",
              "          if (!dataTable) return;\n",
              "\n",
              "          const docLinkHtml = 'Like what you see? Visit the ' +\n",
              "            '<a target=\"_blank\" href=https://colab.research.google.com/notebooks/data_table.ipynb>data table notebook</a>'\n",
              "            + ' to learn more about interactive tables.';\n",
              "          element.innerHTML = '';\n",
              "          dataTable['output_type'] = 'display_data';\n",
              "          await google.colab.output.renderOutput(dataTable, element);\n",
              "          const docLink = document.createElement('div');\n",
              "          docLink.innerHTML = docLinkHtml;\n",
              "          element.appendChild(docLink);\n",
              "        }\n",
              "      </script>\n",
              "    </div>\n",
              "  </div>\n",
              "  "
            ],
            "text/plain": [
              "                                            Sentence                                             Labels\n",
              "0  pierre vinken , 61 years old , will join the b...  [21, 21, 4, 10, 23, 15, 4, 19, 35, 11, 20, 14,...\n",
              "1  mr. vinken is chairman of elsevier n.v. , the ...  [21, 21, 40, 20, 14, 21, 21, 4, 11, 21, 37, 20...\n",
              "2  rudolph agnew , 55 years old and former chairm...  [21, 21, 4, 10, 23, 15, 9, 15, 20, 14, 21, 21,...\n",
              "3  a form of asbestos once used to make kent ciga...  [11, 20, 14, 20, 28, 38, 33, 35, 21, 20, 23, 4...\n",
              "4  the asbestos fiber , crocidolite , is unusuall...  [11, 20, 20, 4, 20, 4, 40, 28, 15, 14, 26, 40,..."
            ]
          },
          "metadata": {},
          "execution_count": 12
        }
      ]
    },
    {
      "cell_type": "code",
      "metadata": {
        "id": "nfGW0GEDQEs6",
        "colab": {
          "base_uri": "https://localhost:8080/"
        },
        "outputId": "89bdf4b4-307d-4da7-9f8e-cdad3f008949"
      },
      "source": [
        "# Pad the sequences to the length of the longest sequence with zeros\n",
        "max_length = 250\n",
        "print(f'Maximum length of the sequence: {max_length}')\n",
        "\n",
        "X_train['Features'] = list(pad_sequences(X_train['Features'], maxlen=max_length, padding='post', dtype='float32'))\n",
        "y_train['Labels'] = list(pad_sequences(y_train['Labels'], maxlen=max_length, padding='post', dtype='float32'))\n",
        "\n",
        "X_val['Features'] = list(pad_sequences(X_val['Features'], maxlen=max_length, padding='post', dtype='float32'))\n",
        "y_val['Labels'] = list(pad_sequences(y_val['Labels'], maxlen=max_length, padding='post', dtype='float32'))\n",
        "\n",
        "X_test['Features'] = list(pad_sequences(X_test['Features'], maxlen=max_length, padding='post', dtype='float32'))\n",
        "y_test['Labels'] = list(pad_sequences(y_test['Labels'], maxlen=max_length, padding='post', dtype='float32'))"
      ],
      "execution_count": 13,
      "outputs": [
        {
          "output_type": "stream",
          "name": "stdout",
          "text": [
            "Maximum length of the sequence: 250\n"
          ]
        }
      ]
    },
    {
      "cell_type": "code",
      "metadata": {
        "id": "_kWZgNd9N9iK"
      },
      "source": [
        "# One hot encode the labels\n",
        "y_train['Labels'] = one_hot_encode(y_train['Labels'])\n",
        "y_val['Labels'] = one_hot_encode(y_val['Labels'])\n",
        "y_test['Labels'] = one_hot_encode(y_test['Labels'])"
      ],
      "execution_count": 14,
      "outputs": []
    },
    {
      "cell_type": "code",
      "metadata": {
        "id": "IiquEt9_Jfz_"
      },
      "source": [
        "# Get features and labels for training, validation and test\n",
        "train_features = np.array(X_train['Features'].to_list(), dtype=np.float)\n",
        "train_labels = np.array(y_train['Labels'].to_list(), dtype=np.float)\n",
        "\n",
        "val_features = np.array(X_val['Features'].to_list(), dtype=np.float)\n",
        "val_labels = np.array(y_val['Labels'].to_list(), dtype=np.float)\n",
        "\n",
        "test_features = np.array(X_test['Features'].to_list(), dtype=np.float)\n",
        "test_labels = np.array(y_test['Labels'].to_list(), dtype=np.float)"
      ],
      "execution_count": 15,
      "outputs": []
    },
    {
      "cell_type": "markdown",
      "metadata": {
        "id": "VDg-5bJc-V4Y"
      },
      "source": [
        "# Model Architectures"
      ]
    },
    {
      "cell_type": "code",
      "metadata": {
        "id": "9sizMIQFIQq2",
        "colab": {
          "base_uri": "https://localhost:8080/"
        },
        "outputId": "82758f77-3c8f-4452-b9a9-876c499ad39d"
      },
      "source": [
        "# Install the necessary libraries\n",
        "!pip install keras_tuner"
      ],
      "execution_count": 16,
      "outputs": [
        {
          "output_type": "stream",
          "name": "stdout",
          "text": [
            "Collecting keras_tuner\n",
            "  Downloading keras_tuner-1.1.0-py3-none-any.whl (98 kB)\n",
            "\u001b[?25l\r\u001b[K     |███▍                            | 10 kB 21.3 MB/s eta 0:00:01\r\u001b[K     |██████▊                         | 20 kB 25.5 MB/s eta 0:00:01\r\u001b[K     |██████████                      | 30 kB 30.0 MB/s eta 0:00:01\r\u001b[K     |█████████████▍                  | 40 kB 24.1 MB/s eta 0:00:01\r\u001b[K     |████████████████▊               | 51 kB 12.6 MB/s eta 0:00:01\r\u001b[K     |████████████████████            | 61 kB 10.1 MB/s eta 0:00:01\r\u001b[K     |███████████████████████▍        | 71 kB 9.9 MB/s eta 0:00:01\r\u001b[K     |██████████████████████████▊     | 81 kB 10.8 MB/s eta 0:00:01\r\u001b[K     |██████████████████████████████  | 92 kB 9.7 MB/s eta 0:00:01\r\u001b[K     |████████████████████████████████| 98 kB 4.1 MB/s \n",
            "\u001b[?25hRequirement already satisfied: ipython in /usr/local/lib/python3.7/dist-packages (from keras_tuner) (5.5.0)\n",
            "Requirement already satisfied: requests in /usr/local/lib/python3.7/dist-packages (from keras_tuner) (2.23.0)\n",
            "Requirement already satisfied: tensorboard in /usr/local/lib/python3.7/dist-packages (from keras_tuner) (2.7.0)\n",
            "Requirement already satisfied: scipy in /usr/local/lib/python3.7/dist-packages (from keras_tuner) (1.4.1)\n",
            "Collecting kt-legacy\n",
            "  Downloading kt_legacy-1.0.4-py3-none-any.whl (9.6 kB)\n",
            "Requirement already satisfied: packaging in /usr/local/lib/python3.7/dist-packages (from keras_tuner) (21.3)\n",
            "Requirement already satisfied: numpy in /usr/local/lib/python3.7/dist-packages (from keras_tuner) (1.19.5)\n",
            "Requirement already satisfied: decorator in /usr/local/lib/python3.7/dist-packages (from ipython->keras_tuner) (4.4.2)\n",
            "Requirement already satisfied: prompt-toolkit<2.0.0,>=1.0.4 in /usr/local/lib/python3.7/dist-packages (from ipython->keras_tuner) (1.0.18)\n",
            "Requirement already satisfied: setuptools>=18.5 in /usr/local/lib/python3.7/dist-packages (from ipython->keras_tuner) (57.4.0)\n",
            "Requirement already satisfied: simplegeneric>0.8 in /usr/local/lib/python3.7/dist-packages (from ipython->keras_tuner) (0.8.1)\n",
            "Requirement already satisfied: pexpect in /usr/local/lib/python3.7/dist-packages (from ipython->keras_tuner) (4.8.0)\n",
            "Requirement already satisfied: pygments in /usr/local/lib/python3.7/dist-packages (from ipython->keras_tuner) (2.6.1)\n",
            "Requirement already satisfied: pickleshare in /usr/local/lib/python3.7/dist-packages (from ipython->keras_tuner) (0.7.5)\n",
            "Requirement already satisfied: traitlets>=4.2 in /usr/local/lib/python3.7/dist-packages (from ipython->keras_tuner) (5.1.1)\n",
            "Requirement already satisfied: six>=1.9.0 in /usr/local/lib/python3.7/dist-packages (from prompt-toolkit<2.0.0,>=1.0.4->ipython->keras_tuner) (1.15.0)\n",
            "Requirement already satisfied: wcwidth in /usr/local/lib/python3.7/dist-packages (from prompt-toolkit<2.0.0,>=1.0.4->ipython->keras_tuner) (0.2.5)\n",
            "Requirement already satisfied: pyparsing!=3.0.5,>=2.0.2 in /usr/local/lib/python3.7/dist-packages (from packaging->keras_tuner) (3.0.6)\n",
            "Requirement already satisfied: ptyprocess>=0.5 in /usr/local/lib/python3.7/dist-packages (from pexpect->ipython->keras_tuner) (0.7.0)\n",
            "Requirement already satisfied: chardet<4,>=3.0.2 in /usr/local/lib/python3.7/dist-packages (from requests->keras_tuner) (3.0.4)\n",
            "Requirement already satisfied: certifi>=2017.4.17 in /usr/local/lib/python3.7/dist-packages (from requests->keras_tuner) (2021.10.8)\n",
            "Requirement already satisfied: idna<3,>=2.5 in /usr/local/lib/python3.7/dist-packages (from requests->keras_tuner) (2.10)\n",
            "Requirement already satisfied: urllib3!=1.25.0,!=1.25.1,<1.26,>=1.21.1 in /usr/local/lib/python3.7/dist-packages (from requests->keras_tuner) (1.24.3)\n",
            "Requirement already satisfied: google-auth<3,>=1.6.3 in /usr/local/lib/python3.7/dist-packages (from tensorboard->keras_tuner) (1.35.0)\n",
            "Requirement already satisfied: werkzeug>=0.11.15 in /usr/local/lib/python3.7/dist-packages (from tensorboard->keras_tuner) (1.0.1)\n",
            "Requirement already satisfied: wheel>=0.26 in /usr/local/lib/python3.7/dist-packages (from tensorboard->keras_tuner) (0.37.0)\n",
            "Requirement already satisfied: absl-py>=0.4 in /usr/local/lib/python3.7/dist-packages (from tensorboard->keras_tuner) (0.12.0)\n",
            "Requirement already satisfied: protobuf>=3.6.0 in /usr/local/lib/python3.7/dist-packages (from tensorboard->keras_tuner) (3.17.3)\n",
            "Requirement already satisfied: grpcio>=1.24.3 in /usr/local/lib/python3.7/dist-packages (from tensorboard->keras_tuner) (1.42.0)\n",
            "Requirement already satisfied: tensorboard-data-server<0.7.0,>=0.6.0 in /usr/local/lib/python3.7/dist-packages (from tensorboard->keras_tuner) (0.6.1)\n",
            "Requirement already satisfied: google-auth-oauthlib<0.5,>=0.4.1 in /usr/local/lib/python3.7/dist-packages (from tensorboard->keras_tuner) (0.4.6)\n",
            "Requirement already satisfied: markdown>=2.6.8 in /usr/local/lib/python3.7/dist-packages (from tensorboard->keras_tuner) (3.3.6)\n",
            "Requirement already satisfied: tensorboard-plugin-wit>=1.6.0 in /usr/local/lib/python3.7/dist-packages (from tensorboard->keras_tuner) (1.8.0)\n",
            "Requirement already satisfied: cachetools<5.0,>=2.0.0 in /usr/local/lib/python3.7/dist-packages (from google-auth<3,>=1.6.3->tensorboard->keras_tuner) (4.2.4)\n",
            "Requirement already satisfied: pyasn1-modules>=0.2.1 in /usr/local/lib/python3.7/dist-packages (from google-auth<3,>=1.6.3->tensorboard->keras_tuner) (0.2.8)\n",
            "Requirement already satisfied: rsa<5,>=3.1.4 in /usr/local/lib/python3.7/dist-packages (from google-auth<3,>=1.6.3->tensorboard->keras_tuner) (4.8)\n",
            "Requirement already satisfied: requests-oauthlib>=0.7.0 in /usr/local/lib/python3.7/dist-packages (from google-auth-oauthlib<0.5,>=0.4.1->tensorboard->keras_tuner) (1.3.0)\n",
            "Requirement already satisfied: importlib-metadata>=4.4 in /usr/local/lib/python3.7/dist-packages (from markdown>=2.6.8->tensorboard->keras_tuner) (4.8.2)\n",
            "Requirement already satisfied: typing-extensions>=3.6.4 in /usr/local/lib/python3.7/dist-packages (from importlib-metadata>=4.4->markdown>=2.6.8->tensorboard->keras_tuner) (3.10.0.2)\n",
            "Requirement already satisfied: zipp>=0.5 in /usr/local/lib/python3.7/dist-packages (from importlib-metadata>=4.4->markdown>=2.6.8->tensorboard->keras_tuner) (3.6.0)\n",
            "Requirement already satisfied: pyasn1<0.5.0,>=0.4.6 in /usr/local/lib/python3.7/dist-packages (from pyasn1-modules>=0.2.1->google-auth<3,>=1.6.3->tensorboard->keras_tuner) (0.4.8)\n",
            "Requirement already satisfied: oauthlib>=3.0.0 in /usr/local/lib/python3.7/dist-packages (from requests-oauthlib>=0.7.0->google-auth-oauthlib<0.5,>=0.4.1->tensorboard->keras_tuner) (3.1.1)\n",
            "Installing collected packages: kt-legacy, keras-tuner\n",
            "Successfully installed keras-tuner-1.1.0 kt-legacy-1.0.4\n"
          ]
        }
      ]
    },
    {
      "cell_type": "code",
      "metadata": {
        "id": "iw9A-EYO33NH"
      },
      "source": [
        "# Import the necessary libraries\n",
        "from keras import backend as K\n",
        "from tensorflow.keras.models import Sequential\n",
        "from tensorflow.keras.layers import InputLayer, LSTM, Bidirectional, GRU, Dense, TimeDistributed, Activation\n",
        "from tensorflow.keras.optimizers import Adam\n",
        "from keras_tuner import RandomSearch, Objective\n",
        "from keras.utils.vis_utils import plot_model"
      ],
      "execution_count": 17,
      "outputs": []
    },
    {
      "cell_type": "code",
      "metadata": {
        "id": "UdmJjXlIjB_z"
      },
      "source": [
        "# Utilised functions\n",
        "def ignore_class_accuracy(to_ignore=0):\n",
        "    def ignore_accuracy(y_true, y_pred):\n",
        "        y_true_class = K.argmax(y_true, axis=-1)\n",
        "        y_pred_class = K.argmax(y_pred, axis=-1)\n",
        " \n",
        "        ignore_mask = K.cast(K.not_equal(y_pred_class, to_ignore), 'int32')\n",
        "        matches = K.cast(K.equal(y_true_class, y_pred_class), 'int32') * ignore_mask\n",
        "        accuracy = K.sum(matches) / K.maximum(K.sum(ignore_mask), 1)\n",
        "        return accuracy\n",
        "    return ignore_accuracy"
      ],
      "execution_count": 18,
      "outputs": []
    },
    {
      "cell_type": "markdown",
      "metadata": {
        "id": "804srVwBQUJ0"
      },
      "source": [
        "#### Bidirectional LSTM with a Dense layer"
      ]
    },
    {
      "cell_type": "code",
      "metadata": {
        "id": "H7gv05GDJh06"
      },
      "source": [
        "# # Define the model architecture\n",
        "# def baseline_model(hp):\n",
        "#     model = Sequential()\n",
        "#     model.add(InputLayer(input_shape=(250, 300)))\n",
        "#     model.add(Bidirectional(LSTM(units=hp.Int('units', min_value=192, max_value=320, step=64, default=256), return_sequences=True)))\n",
        "#     model.add(TimeDistributed(Dense(46)))\n",
        "#     model.add(Activation('softmax'))\n",
        "#     model.compile(optimizer=Adam(hp.Choice('learning_rate', values=[1e-2, 1e-3, 1e-4])), \n",
        "#                   loss='categorical_crossentropy', metrics=['accuracy', ignore_class_accuracy(0)])\n",
        "#     return model\n",
        "\n",
        "# # Hyperparameter optimization using random search\n",
        "# tuner = RandomSearch(baseline_model, objective=Objective('val_ignore_accuracy', direction='max'), max_trials=3, overwrite=True)\n",
        "# tuner.search(train_features, train_labels, epochs=2, validation_data=(val_features, val_labels))"
      ],
      "execution_count": 19,
      "outputs": []
    },
    {
      "cell_type": "code",
      "metadata": {
        "id": "YlspzXx6M39V"
      },
      "source": [
        "# # Plot the model architecture\n",
        "# plot_model(tuner.get_best_models()[0], to_file='model_plot.png', show_shapes=True, show_layer_names=True)"
      ],
      "execution_count": 20,
      "outputs": []
    },
    {
      "cell_type": "code",
      "metadata": {
        "id": "uHzO17ymDZN2"
      },
      "source": [
        "# # Train the best model for 10 epochs\n",
        "# best_baseline_model = tuner.hypermodel.build(tuner.get_best_hyperparameters()[0])\n",
        "# best_baseline_model.fit(train_features, train_labels, epochs=10, validation_data=(val_features, val_labels))\n",
        "# best_baseline_model.save('models/best_baseline_model.h5')"
      ],
      "execution_count": 21,
      "outputs": []
    },
    {
      "cell_type": "markdown",
      "metadata": {
        "id": "SKUoxyQuQcO2"
      },
      "source": [
        "#### Bidirectional GRU with a Dense layer"
      ]
    },
    {
      "cell_type": "code",
      "metadata": {
        "id": "_P4oXm6NNRTo"
      },
      "source": [
        "# # Define the model architecture\n",
        "# def gru_model(hp):\n",
        "#     model = Sequential()\n",
        "#     model.add(InputLayer(input_shape=(250, 300)))\n",
        "#     model.add(Bidirectional(GRU(units=hp.Int('units', min_value=192, max_value=320, step=64, default=256), return_sequences=True)))\n",
        "#     model.add(TimeDistributed(Dense(46)))\n",
        "#     model.add(Activation('softmax'))\n",
        "#     model.compile(optimizer=Adam(hp.Choice('learning_rate', values=[1e-2, 1e-3, 1e-4])), \n",
        "#                   loss='categorical_crossentropy', metrics=['accuracy', ignore_class_accuracy(0)])\n",
        "#     return model\n",
        "\n",
        "# # Hyperparameter optimization using random search\n",
        "# tuner = RandomSearch(gru_model, objective=Objective('val_ignore_accuracy', direction='max'), max_trials=3, overwrite=True)\n",
        "# tuner.search(train_features, train_labels, epochs=2, validation_data=(val_features, val_labels))"
      ],
      "execution_count": 22,
      "outputs": []
    },
    {
      "cell_type": "code",
      "metadata": {
        "id": "vSzIHLWefjg7"
      },
      "source": [
        "# # Plot the model architecture\n",
        "# plot_model(tuner.get_best_models()[0], to_file='model_plot.png', show_shapes=True, show_layer_names=True)"
      ],
      "execution_count": 23,
      "outputs": []
    },
    {
      "cell_type": "code",
      "metadata": {
        "id": "l8mN0JdqDc7b"
      },
      "source": [
        "# # Train the best model for 10 epochs\n",
        "# best_gru_model = tuner.hypermodel.build(tuner.get_best_hyperparameters()[0])\n",
        "# best_gru_model.fit(train_features, train_labels, epochs=10, validation_data=(val_features, val_labels))\n",
        "# best_gru_model.save('models/best_gru_model.h5')"
      ],
      "execution_count": 24,
      "outputs": []
    },
    {
      "cell_type": "markdown",
      "metadata": {
        "id": "qbD6F25CQkqa"
      },
      "source": [
        "#### Bidirectional LSTM with an additional LSTM layer and a Dense layer\n",
        "\n"
      ]
    },
    {
      "cell_type": "code",
      "metadata": {
        "id": "WBXPlr1wMpvD"
      },
      "source": [
        "# # Define the model architecture\n",
        "# def additional_lstm_model(hp):\n",
        "#     model = Sequential()\n",
        "#     model.add(InputLayer(input_shape=(250, 300)))\n",
        "#     model.add(Bidirectional(LSTM(units=hp.Int('units', min_value=192, max_value=320, step=64, default=256), return_sequences=True)))\n",
        "#     model.add(Bidirectional(LSTM(20, return_sequences=True)))\n",
        "#     model.add(TimeDistributed(Dense(46)))\n",
        "#     model.add(Activation('softmax'))\n",
        "#     model.compile(optimizer=Adam(hp.Choice('learning_rate', values=[1e-2, 1e-3, 1e-4])), \n",
        "#                   loss='categorical_crossentropy', metrics=['accuracy', ignore_class_accuracy(0)])\n",
        "#     return model\n",
        "\n",
        "# # Hyperparameter optimization using random search\n",
        "# tuner = RandomSearch(additional_lstm_model, objective=Objective('val_ignore_accuracy', direction='max'), max_trials=3, overwrite=True)\n",
        "# tuner.search(train_features, train_labels, epochs=2, validation_data=(val_features, val_labels))"
      ],
      "execution_count": 25,
      "outputs": []
    },
    {
      "cell_type": "code",
      "metadata": {
        "id": "UmFQMrQxgFYh"
      },
      "source": [
        "# # Plot the model architecture\n",
        "# plot_model(tuner.get_best_models()[0], to_file='model_plot.png', show_shapes=True, show_layer_names=True)"
      ],
      "execution_count": 26,
      "outputs": []
    },
    {
      "cell_type": "code",
      "metadata": {
        "id": "7iCbgbqeDot1"
      },
      "source": [
        "# # Train the best model for 10 epochs\n",
        "# best_additional_lstm_model = tuner.hypermodel.build(tuner.get_best_hyperparameters()[0])\n",
        "# best_additional_lstm_model.fit(train_features, train_labels, epochs=10, validation_data=(val_features, val_labels))\n",
        "# best_additional_lstm_model.save('models/best_additional_lstm_model.h5')"
      ],
      "execution_count": 27,
      "outputs": []
    },
    {
      "cell_type": "markdown",
      "metadata": {
        "id": "34YuQS7VQrdU"
      },
      "source": [
        "#### Bidirectional LSTM with two Dense layers\n",
        "\n"
      ]
    },
    {
      "cell_type": "code",
      "metadata": {
        "id": "05PwpEI2M4AF"
      },
      "source": [
        "# # Define the model architecture\n",
        "# def additional_dense_model(hp):\n",
        "#     model = Sequential()\n",
        "#     model.add(InputLayer(input_shape=(250, 300)))\n",
        "#     model.add(Bidirectional(LSTM(units=hp.Int('units', min_value=192, max_value=320, step=64, default=256), return_sequences=True)))\n",
        "#     model.add(TimeDistributed(Dense(46)))\n",
        "#     model.add(TimeDistributed(Dense(46)))\n",
        "#     model.add(Activation('softmax'))\n",
        "#     model.compile(optimizer=Adam(hp.Choice('learning_rate', values=[1e-2, 1e-3, 1e-4])), \n",
        "#                   loss='categorical_crossentropy', metrics=['accuracy', ignore_class_accuracy(0)])\n",
        "#     return model\n",
        "\n",
        "# # Hyperparameter optimization using random search\n",
        "# tuner = RandomSearch(additional_dense_model, objective=Objective('val_ignore_accuracy', direction='max'), max_trials=3, overwrite=True)\n",
        "# tuner.search(train_features, train_labels, epochs=2, validation_data=(val_features, val_labels))"
      ],
      "execution_count": 28,
      "outputs": []
    },
    {
      "cell_type": "code",
      "metadata": {
        "id": "X8FDUFlkgLpD"
      },
      "source": [
        "# # Plot the model architecture\n",
        "# plot_model(tuner.get_best_models()[0], to_file='model_plot.png', show_shapes=True, show_layer_names=True)"
      ],
      "execution_count": 29,
      "outputs": []
    },
    {
      "cell_type": "code",
      "metadata": {
        "id": "GtjSNr-eDx1O"
      },
      "source": [
        "# # Train the best model for 10 epochs\n",
        "# best_additional_dense_model = tuner.hypermodel.build(tuner.get_best_hyperparameters()[0])\n",
        "# best_additional_dense_model.fit(train_features, train_labels, epochs=10, validation_data=(val_features, val_labels))\n",
        "# best_additional_dense_model.save('models/best_additional_dense_model.h5')"
      ],
      "execution_count": 30,
      "outputs": []
    },
    {
      "cell_type": "markdown",
      "metadata": {
        "id": "A3CoVJZy-J7j"
      },
      "source": [
        "# Model Evaluation"
      ]
    },
    {
      "cell_type": "code",
      "metadata": {
        "colab": {
          "base_uri": "https://localhost:8080/"
        },
        "id": "89lGfaJNrXMk",
        "outputId": "249630f0-4b8b-4536-87b1-3e58a1789d66"
      },
      "source": [
        "# Download the trained models\n",
        "!gdown --id 1OLqie9T-iERKa5KeUSwecg5OAZKBUtXn\n",
        "\n",
        "# Unzip the trained models\n",
        "!unzip -q -o models.zip -d models"
      ],
      "execution_count": 31,
      "outputs": [
        {
          "output_type": "stream",
          "name": "stdout",
          "text": [
            "Downloading...\n",
            "From: https://drive.google.com/uc?id=1OLqie9T-iERKa5KeUSwecg5OAZKBUtXn\n",
            "To: /content/models.zip\n",
            "100% 51.8M/51.8M [00:00<00:00, 72.1MB/s]\n"
          ]
        }
      ]
    },
    {
      "cell_type": "code",
      "metadata": {
        "id": "V0SunEDLYZa-"
      },
      "source": [
        "# Import the necessary libraries\n",
        "from keras.models import load_model\n",
        "from sklearn.metrics import confusion_matrix, ConfusionMatrixDisplay, f1_score\n",
        "import matplotlib.pyplot as plt"
      ],
      "execution_count": 32,
      "outputs": []
    },
    {
      "cell_type": "code",
      "metadata": {
        "id": "voruatvd2-G-"
      },
      "source": [
        "# Utilised functions\n",
        "def modify_var(true, pred, indices):\n",
        "    true = true.argmax(2)\n",
        "    pred = pred.argmax(2)\n",
        "\n",
        "    true_nopad = []\n",
        "    pred_nopad = []\n",
        "\n",
        "    for t, p in zip(true, pred):\n",
        "        for i, el in enumerate(t):\n",
        "            if el !=0 and el not in indices:\n",
        "                true_nopad.append(el)\n",
        "                pred_nopad.append(p[i])\n",
        "    return true_nopad, pred_nopad"
      ],
      "execution_count": 33,
      "outputs": []
    },
    {
      "cell_type": "code",
      "metadata": {
        "id": "XM51gza-0wGE"
      },
      "source": [
        "# Select the two best models based on the validation ignore accuracy\n",
        "best_first_model = load_model('/content/models/models/best_baseline_model.h5', \n",
        "                              custom_objects={'ignore_class_accuracy': ignore_class_accuracy}, compile=False)\n",
        "\n",
        "best_second_model = load_model('/content/models/models/best_gru_model.h5', \n",
        "                               custom_objects={'ignore_class_accuracy': ignore_class_accuracy}, compile=False)\n",
        "\n",
        "# Compile the models\n",
        "best_first_model.compile(optimizer='adam', loss='categorical_crossentropy', metrics=['accuracy', ignore_class_accuracy])\n",
        "best_second_model.compile(optimizer='adam', loss='categorical_crossentropy', metrics=['accuracy', ignore_class_accuracy])"
      ],
      "execution_count": 34,
      "outputs": []
    },
    {
      "cell_type": "code",
      "metadata": {
        "id": "qSkrmOw9X413"
      },
      "source": [
        "# Get the predictions of the best models using the test features\n",
        "first_pred_labels = best_first_model.predict(test_features)\n",
        "second_pred_labels = best_second_model.predict(test_features)"
      ],
      "execution_count": 35,
      "outputs": []
    },
    {
      "cell_type": "code",
      "metadata": {
        "colab": {
          "base_uri": "https://localhost:8080/"
        },
        "id": "j1xQA5ay27vD",
        "outputId": "b1aa2b60-f92b-4deb-a2ca-a78e984ba3fc"
      },
      "source": [
        "# Define the punctuation columns to remove\n",
        "indices = [lab_dict.get(key) for key in [\"$\", \",\", \".\", \":\", \"#\", \"``\", \"''\", \"-LRB-\", \"-RRB-\"]]\n",
        "print(indices)"
      ],
      "execution_count": 36,
      "outputs": [
        {
          "output_type": "stream",
          "name": "stdout",
          "text": [
            "[2, 4, 7, 8, 1, 45, 3, 5, 6]\n"
          ]
        }
      ]
    },
    {
      "cell_type": "code",
      "metadata": {
        "id": "vzsBjACy2t_h",
        "colab": {
          "base_uri": "https://localhost:8080/",
          "height": 877
        },
        "outputId": "a9e352de-080a-41b4-b83f-a2c43fc2e4ac"
      },
      "source": [
        "# Print the confusion matrix of the 1st Model\n",
        "true_var, pred_var = modify_var(test_labels, first_pred_labels, indices)\n",
        "cm_one = confusion_matrix(true_var, pred_var)\n",
        "display = ConfusionMatrixDisplay(confusion_matrix=cm_one, display_labels=[t for t, i in lab_dict.items() if i in list(set(test_labels.argmax(2).flatten()) - set(indices) - set([0]))])\n",
        "fig, ax = plt.subplots(figsize=(20, 15))\n",
        "display.plot(include_values=True, ax=ax)\n",
        "plt.show()"
      ],
      "execution_count": 37,
      "outputs": [
        {
          "output_type": "display_data",
          "data": {
            "image/png": "[encoded data removed]",
            "text/plain": [
              "<Figure size 1440x1080 with 2 Axes>"
            ]
          },
          "metadata": {
            "needs_background": "light"
          }
        }
      ]
    },
    {
      "cell_type": "code",
      "metadata": {
        "id": "aKBSc6QzNiXC",
        "colab": {
          "base_uri": "https://localhost:8080/",
          "height": 877
        },
        "outputId": "e873cd18-5280-4467-bbbb-4abaaf3e495f"
      },
      "source": [
        "# Print the confusion matrix for the 2nd Model\n",
        "true_var, pred_var = modify_var(test_labels, second_pred_labels, indices)\n",
        "cm_two = confusion_matrix(true_var, pred_var)\n",
        "display = ConfusionMatrixDisplay(confusion_matrix=cm_two, display_labels=[t for t, i in lab_dict.items() if i in list(set(test_labels.argmax(2).flatten()) - set(indices) - set([0]))])\n",
        "fig, ax = plt.subplots(figsize=(20, 15))\n",
        "display.plot(include_values=True, ax=ax)\n",
        "plt.show()"
      ],
      "execution_count": 38,
      "outputs": [
        {
          "output_type": "display_data",
          "data": {
            "image/png": "[encoded data removed]",
            "text/plain": [
              "<Figure size 1440x1080 with 2 Axes>"
            ]
          },
          "metadata": {
            "needs_background": "light"
          }
        }
      ]
    },
    {
      "cell_type": "code",
      "metadata": {
        "id": "fGhKkfE-ZHpO",
        "colab": {
          "base_uri": "https://localhost:8080/"
        },
        "outputId": "f8cd6b14-1fec-4c63-bfa9-f352a1341869"
      },
      "source": [
        "# Calculate the F1 macro score\n",
        "true_nopad, first_pred_nopad = modify_var(test_labels, first_pred_labels, indices)\n",
        "true_nopad, second_pred_nopad = modify_var(test_labels, second_pred_labels, indices)\n",
        "first_f1_macro = f1_score(true_nopad, first_pred_nopad, average='macro', zero_division=1)\n",
        "second_f1_macro = f1_score(true_nopad, second_pred_nopad, average='macro', zero_division=1)\n",
        "\n",
        "# Print the performance of the models\n",
        "print('Best Models Performance')\n",
        "print(f'\\nFirst F1 Macro: {round(first_f1_macro, 3)}')\n",
        "print(f'\\nSecond F1 Macro: {round(second_f1_macro, 3)}')"
      ],
      "execution_count": 39,
      "outputs": [
        {
          "output_type": "stream",
          "name": "stdout",
          "text": [
            "Best Models Performance\n",
            "\n",
            "First F1 Macro: 0.843\n",
            "\n",
            "Second F1 Macro: 0.814\n"
          ]
        }
      ]
    }
  ]
}